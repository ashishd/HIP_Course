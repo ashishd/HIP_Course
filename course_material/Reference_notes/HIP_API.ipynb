{
 "cells": [
  {
   "cell_type": "markdown",
   "id": "e6da34c6-d917-4e46-a4ff-0e7313020654",
   "metadata": {},
   "source": [
    "# HIP API\n",
    "\n",
    "This [link](https://docs.amd.com/bundle/HIP-API-Guide-v5.4/page/modules.html) provides access to the HIP API for ROCm version 5.4."
   ]
  },
  {
   "cell_type": "markdown",
   "id": "77927bb1-ec1d-4f4e-bf7a-948d0a0cf8b8",
   "metadata": {},
   "source": [
    "<address>\n",
    "Written by Dr. Toby Potter of <a href=\"https://www.pelagos-consulting.com\">Pelagos Consulting and Education</a> for the Pawsey Supercomputing Centre\n",
    "</address>"
   ]
  },
  {
   "cell_type": "code",
   "execution_count": null,
   "id": "baf30d0a-6c94-49b9-9172-0af42dee0ef7",
   "metadata": {},
   "outputs": [],
   "source": []
  }
 ],
 "metadata": {
  "kernelspec": {
   "display_name": "Python 3 (ipykernel)",
   "language": "python",
   "name": "python3"
  },
  "language_info": {
   "codemirror_mode": {
    "name": "ipython",
    "version": 3
   },
   "file_extension": ".py",
   "mimetype": "text/x-python",
   "name": "python",
   "nbconvert_exporter": "python",
   "pygments_lexer": "ipython3",
   "version": "3.10.9"
  }
 },
 "nbformat": 4,
 "nbformat_minor": 5
}
