{
 "cells": [
  {
   "cell_type": "markdown",
   "id": "07ae5e8c-c989-4d74-9e10-d30658ed4b78",
   "metadata": {},
   "source": [
    "# HIP data types\n",
    "\n",
    "In addition to the C datatypes mentioned in the survical C++ course, HIP also defines some vector types and structures that are useful in launching and using kernels."
   ]
  },
  {
   "cell_type": "markdown",
   "id": "fdaf74b0-5f3b-4369-93f9-0ea17fece4ea",
   "metadata": {},
   "source": [
    "## Vector types in HIP\n",
    "\n",
    "The HIP standard also defines a number of vector types with **n** = 1,2,3, and 4 elements. Vectors can unlock performance within an application because memory is loaded into caches using cache lines that are typically around 64-128 bytes (or 16-32 floats) wide. Here are some vector types as used in both host and kernel code."
   ]
  },
  {
   "cell_type": "markdown",
   "id": "edc907a3-dafd-4abe-8909-1aaa6825717e",
   "metadata": {},
   "source": [
    "| data type | Description and number of bits used |  \n",
    "| :- | :- | \n",
    "| char**n** | **n** x 8 bits, signed two's complement integers  |\n",
    "| uchar**n** | **n** x 8 bits, unsigned integers |\n",
    "| short**n** | **n** x 16 bits, signed two's complement integers |\n",
    "| ushort**n** | **n** x 16 bits, unsigned integers |\n",
    "| int**n**  | **n** x 32 bits, signed two's complement integers |\n",
    "| uint**n**  | **n** x 32 bits, unsigned integers |\n",
    "| long**n**  | **n** x 64 bits, signed two's complement integers |\n",
    "| ulong**n**  | **n** x 64 bits, unsigned integers |\n",
    "| longlong**n** | **n** x 64 bits, signed two's complement integers |\n",
    "| ulonglong**n** | **n** x 64 bits, unsigned integers |\n",
    "| float**n**  | **n** x 32 bits, floating point numbers |\n",
    "| double**n**  | **n** x 64 bits, floating point numbers |\n",
    "\n",
    "\n",
    "Each datatype has a **make_\\<type\\>n** constructor function. For example we can create variables of type **float4** using the code below.\n",
    "\n",
    "```C++\n",
    "    // Declare an initialised vector\n",
    "    float4 f = make_float4(0.0f, 1.0f, 2.0f, 3.0f);\n",
    "    \n",
    "    // Could have also been initialised like this\n",
    "    float4 v = (float4){0.0};\n",
    "```\n",
    "\n",
    "Then we access each of the components of the vector using dot notation on the components **x**, **y**, **z**, and **w**. For example we print the last element of **v** using this code.\n",
    "\n",
    "```C++\n",
    "    // Print out the last element of v\n",
    "    std::printf(\"%f\\n\", f.w);\n",
    "```"
   ]
  },
  {
   "cell_type": "markdown",
   "id": "bcc8f1b2-b38c-4d7a-ac62-6ddd2c4f4665",
   "metadata": {},
   "source": [
    "### Complex numbers in HIP\n",
    "\n",
    "Complex numbers are not implemented in HIP, however you can store the real and imaginary components in a **float2** or **double2** vector type for example. One must manually perform the complex math on individual components. Here we perform a multiplication on two complex numbers. \n",
    "\n",
    "```C++\n",
    "    // Example of complex numbers\n",
    "    float2 num1 = make_float2(1.0f, 3.0f);\n",
    "    float2 num2 = make_float2(4.0f, 6.0f);\n",
    "\n",
    "    // Do complex arithmetic (1,3i)*(4,6i) = 4 - 18 + 12i + 6i = (-14, 18i)\n",
    "    float2 num3 = (float2){0.0f};\n",
    "    // Real part\n",
    "    num3.x = num1.x*num2.x - num1.y*num2.y;\n",
    "    // Complex part\n",
    "    num3.y = num1.y*num2.x + num1.x*num2.y;\n",
    "    // Print out the result\n",
    "    std::cout << num3.x << \" \" << num3.y << \"\\n\";\n",
    "```\n",
    "\n",
    "## The dim3 structure type\n",
    "\n",
    "The `dim3` structure is useful for specifying the block size and number of blocks for each dimension at kernel launch. We use this type as follows:\n",
    "\n",
    "```C++\n",
    "    // Using the dim3 type\n",
    "    dim3 global_size = {512, 512, 1};\n",
    "\n",
    "    // Any unspecified dimensions will be filled with a value of 1\n",
    "    dim3 block_size((uint32_t)16);\n",
    "\n",
    "    // Print out the block size\n",
    "    std::cout << \"Block size\\n\"; \n",
    "    std::cout << block_size.x << \" \" << block_size.y << \" \" << block_size.z << \"\\n\";\n",
    "\n",
    "    // Print out the global size\n",
    "    std::cout << \"Global size\\n\"; \n",
    "    std::cout << global_size.x << \" \" << global_size.y << \" \" << global_size.z << \"\\n\"; \n",
    "```\n",
    "\n",
    "\n",
    "All of these examples can be found in the file <a href=\"hip_types.hpp\">hip_types.cpp</a>. Use the `Makefile` to compile the file."
   ]
  },
  {
   "cell_type": "markdown",
   "id": "dc9a1b1a-bb19-41dd-bc3d-8eb953e6e703",
   "metadata": {},
   "source": [
    "<address>\n",
    "Written by Dr. Toby Potter of <a href=\"https://www.pelagos-consulting.com\">Pelagos Consulting and Education</a> for the Pawsey Supercomputing Centre\n",
    "</address>"
   ]
  }
 ],
 "metadata": {
  "kernelspec": {
   "display_name": "Python 3 (ipykernel)",
   "language": "python",
   "name": "python3"
  },
  "language_info": {
   "codemirror_mode": {
    "name": "ipython",
    "version": 3
   },
   "file_extension": ".py",
   "mimetype": "text/x-python",
   "name": "python",
   "nbconvert_exporter": "python",
   "pygments_lexer": "ipython3",
   "version": "3.10.9"
  }
 },
 "nbformat": 4,
 "nbformat_minor": 5
}
