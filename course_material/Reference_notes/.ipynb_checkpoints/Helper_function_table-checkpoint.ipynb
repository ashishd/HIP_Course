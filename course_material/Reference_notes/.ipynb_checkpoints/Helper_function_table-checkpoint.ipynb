{
 "cells": [
  {
   "cell_type": "markdown",
   "id": "2f1df1a2-4088-4b9c-a8b5-ad0f2480c074",
   "metadata": {},
   "source": [
    "# Helper functions\n",
    "\n",
    "Here is a list of the useful helper functions in <a href=\"../include/hip_helper.hpp\">hip_helper.hpp</a> and what they do.\n",
    "\n",
    "| **Purpose** | **function name** | depends on | creates or fills |\n",
    "| :- | :- | :- | :- |\n",
    "|Parse command line arguments| **h_parse_args** | int **argc**, char*[] **argv** | int |\n",
    "|Check HIP function calls | **h_errchk** | hipError_t **code**, char[] **message** | NA |\n",
    "| Macro to check HIP function calls | **H_ERRCHK** | hipError_t **code** | NA |\n",
    "|Acquire HIP resources | **h_acquire_devices** | int **default_device_id** | int **num_devices[]** |\n",
    "|Release HIP resources | **h_release_devices** | int **num_devices** | NA |\n",
    "|Reset primary contexts | **h_reset_devices** | int **num_devices** | NA |\n",
    "|Print a summary of compute device capabilities | **h_report_on_device** | int **device_id** | NA |\n",
    "|Create streams | **h_create_streams** | int, int  | hipStream_t[] |\n",
    "|Release streams | **h_release_streams** | int, hipStream_t[] | NA |\n",
    "| Fit number of blocks to desired grid size | **h_fit_blocks** | dim3* nblocks, dim3 global_size, dim3 block_size | void |\n",
    "| Write a binary file to disk | **h_write_binary** | void* data, char filename[], size_t nbytes | NA |\n",
    "| Read a binary file from disk | **h_read_binary** | const char filename[] | void* data, size_t nbytes |\n",
    "| Extract walltime (in ms) from an event | **h_get_event_time_ms** | hipEvent_t t1, hipEvent_t t2, const char message[], size_t* nbytes | float |\n",
    "| Create IO rate (MB/s) from time (ms) and nbytes | **h_get_io_rate_MBs** | float elapsed_ms, size_t nbytes | float |"
   ]
  },
  {
   "cell_type": "markdown",
   "id": "7cf0099e-9787-4f64-8235-3ed07b364073",
   "metadata": {},
   "source": [
    "<address>\n",
    "Written by Dr. Toby Potter of <a href=\"https://www.pelagos-consulting.com\">Pelagos Consulting and Education</a> for the Pawsey Supercomputing Centre\n",
    "</address>"
   ]
  }
 ],
 "metadata": {
  "kernelspec": {
   "display_name": "Python 3 (ipykernel)",
   "language": "python",
   "name": "python3"
  },
  "language_info": {
   "codemirror_mode": {
    "name": "ipython",
    "version": 3
   },
   "file_extension": ".py",
   "mimetype": "text/x-python",
   "name": "python",
   "nbconvert_exporter": "python",
   "pygments_lexer": "ipython3",
   "version": "3.10.9"
  }
 },
 "nbformat": 4,
 "nbformat_minor": 5
}
