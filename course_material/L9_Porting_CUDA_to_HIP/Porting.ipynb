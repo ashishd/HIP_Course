{
 "cells": [
  {
   "cell_type": "markdown",
   "id": "916435d8-e663-4bd0-b3e2-8d8344fd6830",
   "metadata": {},
   "source": [
    "# Porting CUDA programs to HIP"
   ]
  },
  {
   "cell_type": "markdown",
   "id": "29e2de93-891d-4202-ad3b-cb706d05c5e8",
   "metadata": {},
   "source": [
    "## Setup and installation"
   ]
  },
  {
   "cell_type": "markdown",
   "id": "8918b4e6-b894-4a29-b180-bb0a402fbdfd",
   "metadata": {},
   "source": [
    "## Porting methods\n",
    "\n",
    "### Porting with hipify-perl\n",
    "\n",
    "### Porting with hipify-inplace"
   ]
  },
  {
   "cell_type": "markdown",
   "id": "cc2d5ccc-66a6-4dff-a76e-2b017591f613",
   "metadata": {},
   "source": [
    "## API differences between CUDA and HIP"
   ]
  },
  {
   "cell_type": "code",
   "execution_count": null,
   "id": "35e0f456-d195-49d8-a51f-c2917bf19bfc",
   "metadata": {},
   "outputs": [],
   "source": []
  }
 ],
 "metadata": {
  "kernelspec": {
   "display_name": "Python 3 (ipykernel)",
   "language": "python",
   "name": "python3"
  },
  "language_info": {
   "codemirror_mode": {
    "name": "ipython",
    "version": 3
   },
   "file_extension": ".py",
   "mimetype": "text/x-python",
   "name": "python",
   "nbconvert_exporter": "python",
   "pygments_lexer": "ipython3",
   "version": "3.10.9"
  }
 },
 "nbformat": 4,
 "nbformat_minor": 5
}
