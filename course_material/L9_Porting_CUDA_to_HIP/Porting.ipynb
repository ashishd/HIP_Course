{
 "cells": [
  {
   "cell_type": "markdown",
   "id": "916435d8-e663-4bd0-b3e2-8d8344fd6830",
   "metadata": {},
   "source": [
    "# Porting CUDA programs to HIP\n",
    "\n",
    "HIP API calls are designed to closely match their CUDA equivalents. This enables HIP to function as a thin layer over CUDA and allows for reasonably easy porting of CUDA code to HIP code. The ROCM library provides two different tools **hipify-perl** and **hipify-clang** to help with the porting process. The tool **hipify-perl** using perl to perform an intelligent search and replace of cuda calls with hip calls, while the **hipify-clang** tool uses the clang preprocessor to produce a high quality port. The perl-based method is better for quick ports of small codes, while the clang-based method is intended for ports of large codebases but needs access to all the header files used in the compilation of the CUDA code."
   ]
  },
  {
   "cell_type": "markdown",
   "id": "29e2de93-891d-4202-ad3b-cb706d05c5e8",
   "metadata": {},
   "source": [
    "## Setup and installation\n",
    "\n",
    "From [this source](https://sep5.readthedocs.io/en/latest/Programming_Guides/HIP-porting-guide.html) it is recommended to attempt porting on a machine that has access to both CUDA and HIP libraries. This usually means doing the port on a machine with an NVIDIA GPU. Then one can try porting portions of the code at a time and compare results. "
   ]
  },
  {
   "cell_type": "markdown",
   "id": "20d427b5-af01-452e-8bb8-b72c57e47ca7",
   "metadata": {},
   "source": [
    "## Trial setup\n",
    "\n",
    "There are two sub-directories in this module:\n",
    "\n",
    "* cuda_mat_mult\n",
    "* hip_mat_mult\n",
    "\n",
    "In the directory **cuda_mat_mult** is a CUDA version of the HIP matrix multiplication code in **hip_mat_mult**. It was manually ported from HIP to CUDA. We are going to use the HIP tools to try and port back the CUDA code to HIP code. "
   ]
  },
  {
   "cell_type": "markdown",
   "id": "8918b4e6-b894-4a29-b180-bb0a402fbdfd",
   "metadata": {},
   "source": [
    "## Porting methods\n",
    "\n",
    "Available porting tools are **hipify-perl** and **hipify-clang**. Hipify-perl is a perl-based search and replace tool, whereas hipify-clang is a clang preprocessor based tool.\n",
    "\n",
    "\n",
    "* hipexamine.sh\n",
    "* hipexamine-perl.sh\n",
    "* hipconvertinplace.sh\n",
    "* hipconvertinplace-perl.sh\n",
    "* hipify-perl\n",
    "* hipify-clang\n",
    "\n",
    "### Learnings\n",
    "\n",
    "* Need to have all the headers available\n",
    "\n",
    "\n",
    "### Porting with hipify-perl\n",
    "\n",
    "### Porting with hipify-inplace"
   ]
  },
  {
   "cell_type": "markdown",
   "id": "cc2d5ccc-66a6-4dff-a76e-2b017591f613",
   "metadata": {},
   "source": [
    "## API differences between CUDA and HIP\n",
    "\n",
    "CUDA has the notion of a driver API and a runtime API."
   ]
  },
  {
   "cell_type": "code",
   "execution_count": null,
   "id": "35e0f456-d195-49d8-a51f-c2917bf19bfc",
   "metadata": {},
   "outputs": [],
   "source": []
  }
 ],
 "metadata": {
  "kernelspec": {
   "display_name": "Python 3 (ipykernel)",
   "language": "python",
   "name": "python3"
  },
  "language_info": {
   "codemirror_mode": {
    "name": "ipython",
    "version": 3
   },
   "file_extension": ".py",
   "mimetype": "text/x-python",
   "name": "python",
   "nbconvert_exporter": "python",
   "pygments_lexer": "ipython3",
   "version": "3.10.9"
  }
 },
 "nbformat": 4,
 "nbformat_minor": 5
}
