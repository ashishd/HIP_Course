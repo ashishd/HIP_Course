{
 "cells": [
  {
   "cell_type": "markdown",
   "id": "de631730-4d07-4c15-b3a8-749ea57f5cff",
   "metadata": {
    "tags": []
   },
   "source": [
    "# Exercise - Hadamard (elementwise) matrix multiplication\n",
    "\n",
    "In this exercise we are going to solidify our understanding of HIP applications using Hadamard matrix multiplication. Hadamard multiplication is elementwise multiplication. The values in matrices **D** and **E** at coordinates (i0,i1) are multiplied together to set the value at coordinates (i0,i1) in matrix **F**.\n",
    "\n",
    "<figure style=\"margin-left:auto; margin-right:auto; width:80%;\">\n",
    "    <img style=\"vertical-align:middle\" src=\"../images/elementwise_multiplication.svg\">\n",
    "    <figcaption style= \"text-align:lower; margin:1em; float:bottom; vertical-align:bottom;\">Elementwise multiplication of matrices D and E to get F.</figcaption>\n",
    "</figure>\n",
    "\n",
    "The source code is located in [mat_elementwise.cpp](mat_elementwise.cpp) and is similar to the matrix multiplication example <a href=\"../L3_Matrix_Multiplication/mat_mult.cpp\">mat_mult.cpp</a> in almost every aspect. The steps are: \n",
    "\n",
    "1. Device discovery and selection\n",
    "1. Matrices **D_h** and **E_h** allocated on the host and filled with random numbers.\n",
    "1. Matrices **D_d** and **E_d** allocated on the compute device\n",
    "1. Matrices **D_h** and **E_h** uploaded to device allocations **D_d** and **E_d**\n",
    "1. The kernel **mat_elementwise** is run on the device to compute **F_d** from **D_d** and **E_d**.\n",
    "1. **F_d** is copied to **F_h** and compared with the solution **F_answer_h** from sequential CPU code.\n",
    "1. Memory and device cleanup"
   ]
  },
  {
   "cell_type": "markdown",
   "id": "ae431367-3c4e-451b-a863-9b59882f2194",
   "metadata": {},
   "source": [
    "## Compile and run the solution\n",
    "\n",
    "We compile and run the solution [mat_elementwise_answer.cpp](mat_elementwise_answer.cpp) as shown below. We are using a really small matrix (8,4) so that the exercise may be done from the command line. "
   ]
  },
  {
   "cell_type": "code",
   "execution_count": 1,
   "id": "06d4be13-9cfd-461e-b984-bab6a678c01e",
   "metadata": {},
   "outputs": [
    {
     "name": "stdout",
     "output_type": "stream",
     "text": [
      "rm -r *.exe\n",
      "hipcc -O2 -fopenmp -I/usr/include -I../include -L/usr/lib/x86_64-linux-gnu mat_elementwise.cpp\\\n",
      "\t-o mat_elementwise.exe \n",
      "hipcc -O2 -fopenmp -I/usr/include -I../include -L/usr/lib/x86_64-linux-gnu mat_elementwise_answer.cpp\\\n",
      "\t-o mat_elementwise_answer.exe \n",
      "Device id: 0\n",
      "\tname:                                    \n",
      "\tglobal memory size:                      536 MB\n",
      "\tavailable registers per block:           65536 \n",
      "\tmaximum shared memory size per block:    65 KB\n",
      "\tmaximum pitch size for memory copies:    536 MB\n",
      "\tmax block size:                          (1024,1024,1024)\n",
      "\tmax threads in a block:                  1024\n",
      "\tmax Grid size:                           (2147483647,2147483647,2147483647)\n",
      "The output array F_h (as computed with HIP) is\n",
      "----\n",
      "|  8.33e-01  7.59e-01  2.37e-01  3.42e-01 |\n",
      "|  1.58e-02  3.78e-01  1.60e-01  3.39e-01 |\n",
      "|  1.15e-02  5.99e-05  7.34e-02  8.65e-01 |\n",
      "|  7.98e-02  4.62e-01  6.40e-01  6.55e-01 |\n",
      "|  5.57e-01  1.88e-01  1.85e-01  1.15e-01 |\n",
      "|  2.79e-02  2.33e-01  1.23e-01  2.12e-01 |\n",
      "|  8.39e-01  1.02e-01  6.00e-01  2.99e-01 |\n",
      "|  3.19e-03  1.13e-01  7.04e-02  3.10e-02 |\n",
      "----\n",
      "The CPU solution (F_answer_h) is \n",
      "----\n",
      "|  8.33e-01  7.59e-01  2.37e-01  3.42e-01 |\n",
      "|  1.58e-02  3.78e-01  1.60e-01  3.39e-01 |\n",
      "|  1.15e-02  5.99e-05  7.34e-02  8.65e-01 |\n",
      "|  7.98e-02  4.62e-01  6.40e-01  6.55e-01 |\n",
      "|  5.57e-01  1.88e-01  1.85e-01  1.15e-01 |\n",
      "|  2.79e-02  2.33e-01  1.23e-01  2.12e-01 |\n",
      "|  8.39e-01  1.02e-01  6.00e-01  2.99e-01 |\n",
      "|  3.19e-03  1.13e-01  7.04e-02  3.10e-02 |\n",
      "----\n",
      "The residual (F_answer_h-F_h) is\n",
      "----\n",
      "|  0.00e+00  0.00e+00  0.00e+00  0.00e+00 |\n",
      "|  0.00e+00  0.00e+00  0.00e+00  0.00e+00 |\n",
      "|  0.00e+00  0.00e+00  0.00e+00  0.00e+00 |\n",
      "|  0.00e+00  0.00e+00  0.00e+00  0.00e+00 |\n",
      "|  0.00e+00  0.00e+00  0.00e+00  0.00e+00 |\n",
      "|  0.00e+00  0.00e+00  0.00e+00  0.00e+00 |\n",
      "|  0.00e+00  0.00e+00  0.00e+00  0.00e+00 |\n",
      "|  0.00e+00  0.00e+00  0.00e+00  0.00e+00 |\n",
      "----\n"
     ]
    }
   ],
   "source": [
    "!make clean; make; ./mat_elementwise_answer.exe"
   ]
  },
  {
   "cell_type": "markdown",
   "id": "a12588bb-e9e9-44de-8503-0500491fc394",
   "metadata": {},
   "source": [
    "This is what we expect to see. The residual (last matrix shown) is the result of subtracting the HIP output (**F_h**) from the CPU output and is 0 everywhere."
   ]
  },
  {
   "cell_type": "markdown",
   "id": "df42d0e1-16b6-4759-9c9c-c7fd384cc14a",
   "metadata": {},
   "source": [
    "## Compile and run the exercise\n",
    "\n",
    "The exercise [mat_mult_elementwise.cpp](mat_mult_elementwise.cpp) is missing a number of crucial pieces of software. If we compile and run we see a non-zero residual. Copy this command to the command line (without the !) and run it as follows:"
   ]
  },
  {
   "cell_type": "code",
   "execution_count": 7,
   "id": "751d34e3-8dab-4fb3-8a1e-3fc0c7b45103",
   "metadata": {},
   "outputs": [
    {
     "name": "stdout",
     "output_type": "stream",
     "text": [
      "make: Nothing to be done for 'all'.\n",
      "Device id: 0\n",
      "\tname:                                    \n",
      "\tglobal memory size:                      536 MB\n",
      "\tavailable registers per block:           65536 \n",
      "\tmaximum shared memory size per block:    65 KB\n",
      "\tmaximum pitch size for memory copies:    536 MB\n",
      "\tmax block size:                          (1024,1024,1024)\n",
      "\tmax threads in a block:                  1024\n",
      "\tmax Grid size:                           (2147483647,2147483647,2147483647)\n",
      "The output array F_h (as computed with HIP) is\n",
      "----\n",
      "|  0.00e+00  0.00e+00  0.00e+00  0.00e+00 |\n",
      "|  0.00e+00  0.00e+00  0.00e+00  0.00e+00 |\n",
      "|  0.00e+00  0.00e+00  0.00e+00  0.00e+00 |\n",
      "|  0.00e+00  0.00e+00  0.00e+00  0.00e+00 |\n",
      "|  0.00e+00  0.00e+00  0.00e+00  0.00e+00 |\n",
      "|  0.00e+00  0.00e+00  0.00e+00  0.00e+00 |\n",
      "|  0.00e+00  0.00e+00  0.00e+00  0.00e+00 |\n",
      "|  0.00e+00  0.00e+00  0.00e+00  0.00e+00 |\n",
      "----\n",
      "The CPU solution (F_answer_h) is \n",
      "----\n",
      "|  8.76e-01  7.29e-01  2.56e-02  3.03e-01 |\n",
      "|  4.40e-02  1.07e-02  5.57e-03  3.03e-01 |\n",
      "|  7.16e-01  5.75e-01  2.86e-01  7.68e-02 |\n",
      "|  8.54e-01  5.58e-01  5.81e-01  2.79e-01 |\n",
      "|  4.18e-01  5.55e-01  1.16e-01  6.04e-01 |\n",
      "|  1.44e-01  3.76e-01  9.32e-02  4.81e-02 |\n",
      "|  6.55e-02  2.77e-01  4.90e-03  3.30e-02 |\n",
      "|  3.17e-01  3.35e-01  6.31e-01  3.35e-01 |\n",
      "----\n",
      "The residual (F_answer_h-F_h) is\n",
      "----\n",
      "|  8.76e-01  7.29e-01  2.56e-02  3.03e-01 |\n",
      "|  4.40e-02  1.07e-02  5.57e-03  3.03e-01 |\n",
      "|  7.16e-01  5.75e-01  2.86e-01  7.68e-02 |\n",
      "|  8.54e-01  5.58e-01  5.81e-01  2.79e-01 |\n",
      "|  4.18e-01  5.55e-01  1.16e-01  6.04e-01 |\n",
      "|  1.44e-01  3.76e-01  9.32e-02  4.81e-02 |\n",
      "|  6.55e-02  2.77e-01  4.90e-03  3.30e-02 |\n",
      "|  3.17e-01  3.35e-01  6.31e-01  3.35e-01 |\n",
      "----\n"
     ]
    }
   ],
   "source": [
    "!make; ./mat_elementwise.exe"
   ]
  },
  {
   "cell_type": "markdown",
   "id": "d0255dc2-cfa9-4b71-9a60-b3b5220da1b6",
   "metadata": {},
   "source": [
    "As you can see the residual is non-zero, which means that the output is incorrect. The challenge is to edit [mat_elementwise.cpp](mat_elementwise.cpp) so that it produces the same result as the solution [mat_elementwise_answer.cpp](mat_elementwise_answer.cpp)."
   ]
  },
  {
   "cell_type": "markdown",
   "id": "e3a976bb-f095-4bc1-bf25-c6f0cddadfba",
   "metadata": {
    "tags": []
   },
   "source": [
    "## Choose your own coding adventure!\n",
    "\n",
    "As it stands the exercise [mat_elementwise.cpp](mat_elementwise.cpp) is missing a number of **crucial** steps. Each step is clearly marked out in the code using quadruple comments.\n",
    "\n",
    "1. Kernel code to perform the actual elementwise multiplication.\n",
    "    * Make sure you have a guard statement in place so that you don't overrun the bounds of F. \n",
    "    * Use multi-dimensional indexing as shown in the Survival C++ Lesson to index into arrays.\n",
    "    * If you get stuck you can just use the kernel from the answer in [mat_elementwise_answer.cpp](mat_elementwise_answer.cpp).\n",
    "1. Initialise HIP and set the compute device.\n",
    "    * Call **hipInit** to initialise HIP.\n",
    "    * Get the device count with **hipGetDeviceCount** and perform sanity checking on the device index.\n",
    "    * Call **hipSetDevice** to set the compute device.\n",
    "    * Always check the return code of API calls with **H_ERRCHK**.\n",
    "1. Allocate memory for arrays **D_d**, **E_d** and **F_d** on the compute device.\n",
    "    * Call **hipMalloc** to allocate memory.\n",
    "1. Upload memory from arrays **D_h** and **E_h** on the host to **E_d** and **F_d** on the device.\n",
    "    * Call **hipMemcpy** to copy memory from host to device.\n",
    "1. Launch the kernel and wait for it to complete\n",
    "    * Use the **hipLaunchKernelGGL** macro.\n",
    "    * Use **hipDeviceSynchronize** to wait for the kernel.\n",
    "1. Copy the solution **F_d** on the compute device back to **F_h** on the host.\n",
    "    * Call **hipMemcpy** to copy memory from device to host.\n",
    "1. Free memory for **D_d**, **E_d**, and **F_d** on the compute device.\n",
    "    * Call **hipFree** to free up device memory.\n",
    "1. Reset the compute device and destroy context\n",
    "    * Call **hipDeviceSynchronize** to wait for devices.\n",
    "    * Call **hipDeviceReset** to release the primary context on each device.\n",
    "\n",
    "As a HIP developer your job is to provide source code to fill in the missing steps, using either the template code in <a href=\"../L3_Matrix_Multiplication/mat_mult.cpp\">mat_mult.cpp</a> or by peeking at the solution in [mat_elementwise_answer.cpp](mat_elementwise_answer.cpp). You can make these tasks as easy or as challenging as you wish. Each of the steps has a **shortcut solution** that you can access by uncommenting the code snippet that has the answer. For example see these lines for step 2 in [mat_elementwise.cpp](mat_elementwise.cpp).\n",
    "\n",
    "```C++\n",
    "    //// Step 2. Discover resources //// \n",
    "    //// Call hipInit to intialise HIP ////\n",
    "    //// Call hipGetDeviceCount to fill num_devices ////\n",
    "    //// Make sure dev_index is sane\n",
    "    //// Call hipSetDevice to set the compute device ///\n",
    "\n",
    "    // Uncomment for the shortcut answer\n",
    "    // #include \"step2_resources.cpp\"\n",
    "        \n",
    "    //// End code: ////\n",
    "```\n",
    "\n",
    "If you get stuck you can just uncomment the **#include** statement to bring in the solution for that step and move on to another, for example uncommenting this line brings in the solution to discover resources:\n",
    "\n",
    "\n",
    "```C++\n",
    "    //// Step 2. Discover resources //// \n",
    "    //// Call hipInit to intialise HIP ////\n",
    "    //// Call hipGetDeviceCount to fill num_devices ////\n",
    "    //// Make sure dev_index is sane\n",
    "    //// Call hipSetDevice to set the compute device ///\n",
    "\n",
    "    // Uncomment for the shortcut answer\n",
    "    #include \"step2_resources.cpp\"\n",
    "        \n",
    "    //// End code: ////\n",
    "```\n",
    "\n",
    "The goal is to become familiar with looking up and implementing **HIP** API calls as well as familiarising yourself with best practices. For your exercise you can choose to focus on as little as a **single task** or try to implement **all the tasks** yourself. It is up to you and how much you can accomplish within the time allotted. Some steps may depend on others, so if you skip a step just make sure you uncomment the include for the shortcut. Each time you make changes to the code you can run the following to test it out."
   ]
  },
  {
   "cell_type": "code",
   "execution_count": 9,
   "id": "db88e2c9-1ab7-44b0-8051-75f9eef47692",
   "metadata": {},
   "outputs": [
    {
     "name": "stdout",
     "output_type": "stream",
     "text": [
      "make: Nothing to be done for 'all'.\n",
      "Device id: 0\n",
      "\tname:                                    \n",
      "\tglobal memory size:                      536 MB\n",
      "\tavailable registers per block:           65536 \n",
      "\tmaximum shared memory size per block:    65 KB\n",
      "\tmaximum pitch size for memory copies:    536 MB\n",
      "\tmax block size:                          (1024,1024,1024)\n",
      "\tmax threads in a block:                  1024\n",
      "\tmax Grid size:                           (2147483647,2147483647,2147483647)\n",
      "The output array F_h (as computed with HIP) is\n",
      "----\n",
      "|  0.00e+00  0.00e+00  0.00e+00  0.00e+00 |\n",
      "|  0.00e+00  0.00e+00  0.00e+00  0.00e+00 |\n",
      "|  0.00e+00  0.00e+00  0.00e+00  0.00e+00 |\n",
      "|  0.00e+00  0.00e+00  0.00e+00  0.00e+00 |\n",
      "|  0.00e+00  0.00e+00  0.00e+00  0.00e+00 |\n",
      "|  0.00e+00  0.00e+00  0.00e+00  0.00e+00 |\n",
      "|  0.00e+00  0.00e+00  0.00e+00  0.00e+00 |\n",
      "|  0.00e+00  0.00e+00  0.00e+00  0.00e+00 |\n",
      "----\n",
      "The CPU solution (F_answer_h) is \n",
      "----\n",
      "|  1.18e-02  3.13e-01  1.19e-01  1.80e-01 |\n",
      "|  4.00e-01  4.19e-01  1.62e-01  1.80e-01 |\n",
      "|  3.51e-01  2.33e-01  4.16e-01  2.58e-01 |\n",
      "|  2.82e-01  6.09e-01  6.65e-01  1.01e-01 |\n",
      "|  2.72e-02  2.19e-02  1.25e-02  4.01e-01 |\n",
      "|  5.06e-02  2.47e-01  5.42e-01  1.27e-01 |\n",
      "|  5.81e-01  1.67e-01  7.68e-02  5.96e-01 |\n",
      "|  4.78e-01  6.68e-01  2.84e-02  4.82e-02 |\n",
      "----\n",
      "The residual (F_answer_h-F_h) is\n",
      "----\n",
      "|  1.18e-02  3.13e-01  1.19e-01  1.80e-01 |\n",
      "|  4.00e-01  4.19e-01  1.62e-01  1.80e-01 |\n",
      "|  3.51e-01  2.33e-01  4.16e-01  2.58e-01 |\n",
      "|  2.82e-01  6.09e-01  6.65e-01  1.01e-01 |\n",
      "|  2.72e-02  2.19e-02  1.25e-02  4.01e-01 |\n",
      "|  5.06e-02  2.47e-01  5.42e-01  1.27e-01 |\n",
      "|  5.81e-01  1.67e-01  7.68e-02  5.96e-01 |\n",
      "|  4.78e-01  6.68e-01  2.84e-02  4.82e-02 |\n",
      "----\n"
     ]
    }
   ],
   "source": [
    "!make; ./mat_elementwise.exe"
   ]
  },
  {
   "cell_type": "markdown",
   "id": "c9d740b9-4f3b-40dc-966a-2e470fe62abb",
   "metadata": {},
   "source": [
    "Have fun!"
   ]
  },
  {
   "cell_type": "markdown",
   "id": "bdf2f0b4-b73b-470f-b06f-8b24dde83d75",
   "metadata": {},
   "source": [
    "<address>\n",
    "Written by Dr. Toby Potter of <a href=\"https://www.pelagos-consulting.com\">Pelagos Consulting and Education</a> for the Pawsey Supercomputing Centre\n",
    "</address>"
   ]
  }
 ],
 "metadata": {
  "kernelspec": {
   "display_name": "Python 3 (ipykernel)",
   "language": "python",
   "name": "python3"
  },
  "language_info": {
   "codemirror_mode": {
    "name": "ipython",
    "version": 3
   },
   "file_extension": ".py",
   "mimetype": "text/x-python",
   "name": "python",
   "nbconvert_exporter": "python",
   "pygments_lexer": "ipython3",
   "version": "3.9.12"
  }
 },
 "nbformat": 4,
 "nbformat_minor": 5
}
