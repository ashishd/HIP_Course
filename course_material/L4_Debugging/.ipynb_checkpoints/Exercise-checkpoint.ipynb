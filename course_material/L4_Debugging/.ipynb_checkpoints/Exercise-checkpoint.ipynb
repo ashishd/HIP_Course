{
 "cells": [
  {
   "cell_type": "markdown",
   "id": "d6443b86-83d9-45b0-bebc-35d3a64d55da",
   "metadata": {
    "tags": []
   },
   "source": [
    "# Exercise - Hadamard matrix multiplication gone wrong!\n",
    "\n",
    "In this exercise we are going to use what we know to try and find an error in a HIP program. We revisit Hadamard multiplication, where the values in matrices **D** and **E** at coordinates (i0,i1) are multiplied together to set the value at coordinates (i0,i1) in matrix **F**.\n",
    "\n",
    "<figure style=\"margin-left:auto; margin-right:auto; width:80%;\">\n",
    "    <img style=\"vertical-align:middle\" src=\"../images/elementwise_multiplication.svg\">\n",
    "    <figcaption style= \"text-align:lower; margin:1em; float:bottom; vertical-align:bottom;\">Elementwise multiplication of matrices D and E to get F.</figcaption>\n",
    "</figure>\n",
    "\n",
    "The source code is located in [mat_elementwise.cpp](mat_elementwise_buggy.cpp) and the kernel is in [kernels_elementwise.c](kernels_elementwise.c). The program is similar to matrix multiplication in almost every way. The steps are:"
   ]
  },
  {
   "cell_type": "markdown",
   "id": "86c10de5-1244-43c8-874c-e20384fc563e",
   "metadata": {},
   "source": [
    "1. Parse program arguments\n",
    "1. Discover resources and choose a compute device\n",
    "1. Construct matrices **D_h** and **E_h** on the host and fill them with random numbers\n",
    "1. Allocate memory for arrays **D_d**, **E_d**, and **F_d** on the compute device\n",
    "1. Upload matrices **D_h** and **E_h** from the host to **D_d** and **E_d** on the device\n",
    "1. Run the kernel to compute **F_d** from **D_d** and **E_d** on the device\n",
    "1. Copy the buffer for matrix **F_d** on the device back to **F_h** on the host\n",
    "1. Test the computed matrix **F_h** against a known answer\n",
    "1. Write the contents of matrices **D_h**, **E_h**, and **F_h** to disk\n",
    "1. Clean up memory alllocations and release resources"
   ]
  },
  {
   "cell_type": "markdown",
   "id": "7b501a64-09f5-4487-85ba-ae10f7263b93",
   "metadata": {},
   "source": [
    "## Run the solution\n",
    "\n",
    "If we run the solution it computes **F** using elementwise multiplication of matrices **D** and **E**. We see there is little or no residual between the computed matrix **F_h** and **F_answer_h**, the solution computed from a serial CPU code."
   ]
  },
  {
   "cell_type": "code",
   "execution_count": 1,
   "id": "c940d77d-e137-411c-b9d8-72724580fc3a",
   "metadata": {},
   "outputs": [
    {
     "name": "stdout",
     "output_type": "stream",
     "text": [
      "make: 'mat_elementwise_answer.exe' is up to date.\n",
      "Device id: 0\n",
      "\tname:                                    NVIDIA GeForce RTX 3060 Laptop GPU\n",
      "\tglobal memory size:                      6226 MB\n",
      "\tavailable registers per block:           65536 \n",
      "\tmaximum shared memory size per block:    49 KB\n",
      "\tmaximum pitch size for memory copies:    2147 MB\n",
      "\tmax block size:                          (1024,1024,64)\n",
      "\tmax threads in a block:                  1024\n",
      "\tmax Grid size:                           (2147483647,65535,65535)\n",
      "The output array F_h (as computed with HIP) is\n",
      "--------\n",
      "|  4.04e-01  5.10e-02  1.06e-01  1.96e-01  6.69e-01  4.25e-01  3.80e-01  5.38e-01 |\n",
      "|  5.59e-01  2.02e-01  1.91e-02  4.67e-02  2.10e-01  3.11e-01  2.20e-01  5.94e-03 |\n",
      "|  4.80e-01  2.21e-01  7.45e-02  2.64e-01  2.20e-01  1.88e-01  1.30e-01  4.01e-02 |\n",
      "|  1.17e-01  5.76e-01  5.62e-02  3.83e-01  3.19e-01  2.19e-01  8.26e-02  4.11e-02 |\n",
      "--------\n",
      "The CPU solution (F_answer_h) is \n",
      "--------\n",
      "|  4.04e-01  5.10e-02  1.06e-01  1.96e-01  6.69e-01  4.25e-01  3.80e-01  5.38e-01 |\n",
      "|  5.59e-01  2.02e-01  1.91e-02  4.67e-02  2.10e-01  3.11e-01  2.20e-01  5.94e-03 |\n",
      "|  4.80e-01  2.21e-01  7.45e-02  2.64e-01  2.20e-01  1.88e-01  1.30e-01  4.01e-02 |\n",
      "|  1.17e-01  5.76e-01  5.62e-02  3.83e-01  3.19e-01  2.19e-01  8.26e-02  4.11e-02 |\n",
      "--------\n",
      "The residual (F_answer_h-F_h) is\n",
      "--------\n",
      "|  0.00e+00  0.00e+00  0.00e+00  0.00e+00  0.00e+00  0.00e+00  0.00e+00  0.00e+00 |\n",
      "|  0.00e+00  0.00e+00  0.00e+00  0.00e+00  0.00e+00  0.00e+00  0.00e+00  0.00e+00 |\n",
      "|  0.00e+00  0.00e+00  0.00e+00  0.00e+00  0.00e+00  0.00e+00  0.00e+00  0.00e+00 |\n",
      "|  0.00e+00  0.00e+00  0.00e+00  0.00e+00  0.00e+00  0.00e+00  0.00e+00  0.00e+00 |\n",
      "--------\n"
     ]
    }
   ],
   "source": [
    "!make mat_elementwise_answer.exe; ./mat_elementwise_answer.exe"
   ]
  },
  {
   "cell_type": "markdown",
   "id": "be9aa581-c702-4e0c-a4ce-e2ba356c4b33",
   "metadata": {},
   "source": [
    "## Run the buggy application\n",
    "\n",
    "Now run the application that has some bugs in it."
   ]
  },
  {
   "cell_type": "code",
   "execution_count": 2,
   "id": "ab5f7503-b8f3-4283-b47e-b0e4f9cb070e",
   "metadata": {},
   "outputs": [
    {
     "name": "stdout",
     "output_type": "stream",
     "text": [
      "make: 'mat_elementwise.exe' is up to date.\n",
      "Device id: 0\n",
      "\tname:                                    NVIDIA GeForce RTX 3060 Laptop GPU\n",
      "\tglobal memory size:                      6226 MB\n",
      "\tavailable registers per block:           65536 \n",
      "\tmaximum shared memory size per block:    49 KB\n",
      "\tmaximum pitch size for memory copies:    2147 MB\n",
      "\tmax block size:                          (1024,1024,64)\n",
      "\tmax threads in a block:                  1024\n",
      "\tmax Grid size:                           (2147483647,65535,65535)\n",
      "The output array F_h (as computed with HIP) is\n",
      "--------\n",
      "|  1.88e-01  3.26e-01  2.40e-02  1.14e-01  8.40e-02  4.46e-01  3.52e-01  2.55e-02 |\n",
      "|  4.58e-02  9.84e-02  4.19e-01  2.29e-01  9.17e-02  5.50e-01  2.89e-01  4.16e-01 |\n",
      "|  6.11e-01  5.86e-03  1.79e-01  3.39e-01  4.34e-01  6.00e-02  2.95e-01  8.09e-01 |\n",
      "|  1.32e-01  0.00e+00  0.00e+00  0.00e+00  0.00e+00  0.00e+00  0.00e+00  0.00e+00 |\n",
      "--------\n",
      "The CPU solution (F_answer_h) is \n",
      "--------\n",
      "|  1.88e-01  3.26e-01  2.40e-02  1.14e-01  8.40e-02  4.46e-01  3.52e-01  2.55e-02 |\n",
      "|  4.58e-02  9.84e-02  4.19e-01  2.29e-01  9.17e-02  5.50e-01  2.89e-01  4.16e-01 |\n",
      "|  6.11e-01  5.86e-03  1.79e-01  3.39e-01  4.34e-01  6.00e-02  2.95e-01  8.09e-01 |\n",
      "|  1.32e-01  1.95e-01  3.69e-01  1.77e-02  2.58e-01  5.44e-03  2.86e-01  2.50e-01 |\n",
      "--------\n",
      "The residual (F_answer_h-F_h) is\n",
      "--------\n",
      "|  0.00e+00  0.00e+00  0.00e+00  0.00e+00  0.00e+00  0.00e+00  0.00e+00  0.00e+00 |\n",
      "|  0.00e+00  0.00e+00  0.00e+00  0.00e+00  0.00e+00  0.00e+00  0.00e+00  0.00e+00 |\n",
      "|  0.00e+00  0.00e+00  0.00e+00  0.00e+00  0.00e+00  0.00e+00  0.00e+00  0.00e+00 |\n",
      "|  0.00e+00  1.95e-01  3.69e-01  1.77e-02  2.58e-01  5.44e-03  2.86e-01  2.50e-01 |\n",
      "--------\n"
     ]
    }
   ],
   "source": [
    "!make mat_elementwise.exe; ./mat_elementwise.exe"
   ]
  },
  {
   "cell_type": "markdown",
   "id": "cce5d127-8ec7-419f-8489-f7ace63f1b99",
   "metadata": {},
   "source": [
    "For some reason nearly all the elements of the last row of **F_h** is filled with an incorrect solution."
   ]
  },
  {
   "cell_type": "markdown",
   "id": "d91b193b-40d3-4742-acf9-3220ba6a344e",
   "metadata": {},
   "source": [
    "## Tasks\n",
    "\n",
    "Your task is to try and find the error using any of the techniques found in the lesson. You can of course check (or diff) the answer [mat_elementwise_answer.cpp](mat_elementwise_answer.cpp) if you get frustrated, but then try to understand why the bug messed up the solution."
   ]
  },
  {
   "cell_type": "markdown",
   "id": "e256ebdb-92ec-4c4d-82e2-07ec4543c037",
   "metadata": {},
   "source": [
    "<address>\n",
    "Written by Dr. Toby Potter of <a href=\"https://www.pelagos-consulting.com\">Pelagos Consulting and Education</a> for the Pawsey Supercomputing Centre\n",
    "</address>"
   ]
  }
 ],
 "metadata": {
  "kernelspec": {
   "display_name": "Python 3 (ipykernel)",
   "language": "python",
   "name": "python3"
  },
  "language_info": {
   "codemirror_mode": {
    "name": "ipython",
    "version": 3
   },
   "file_extension": ".py",
   "mimetype": "text/x-python",
   "name": "python",
   "nbconvert_exporter": "python",
   "pygments_lexer": "ipython3",
   "version": "3.9.12"
  }
 },
 "nbformat": 4,
 "nbformat_minor": 5
}
