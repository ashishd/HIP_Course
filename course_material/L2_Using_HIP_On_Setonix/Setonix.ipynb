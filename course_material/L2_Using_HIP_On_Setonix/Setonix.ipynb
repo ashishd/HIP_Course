{
 "cells": [
  {
   "cell_type": "markdown",
   "id": "081ec038-331e-4af7-96a1-97102cb93f22",
   "metadata": {},
   "source": [
    "# Using HIP on Setonix\n",
    "\n",
    "```bash\n",
    "salloc --account ${PAWSEY_PROJECT} --ntasks 1 --mem 4GB --cpus-per-task 1 --time 1:00:00 --gpus 1 --partition work\n",
    "```"
   ]
  },
  {
   "cell_type": "markdown",
   "id": "68eaadf6-dc9d-464a-81d6-692330e3044d",
   "metadata": {},
   "source": [
    "```bash\n",
    "salloc --account ${PAWSEY_PROJECT} --ntasks 1 --mem 4GB --cpus-per-task 1 --time 1:00:00 --gpus-per-node 1 --gpus-per-task 1 --partition work\n",
    "```"
   ]
  },
  {
   "cell_type": "markdown",
   "id": "1201836b-e4c6-4648-a2c7-85572d57bcbe",
   "metadata": {},
   "source": [
    "```bash\n",
    "salloc --account ${PAWSEY_PROJECT} --ntasks 1 --mem 4GB --cpus-per-task 1 --time 1:00:00 --gpus-per-task 2 --partition gpu\n",
    "```"
   ]
  },
  {
   "cell_type": "markdown",
   "id": "1cc705e9-8c12-44bf-b51b-3a3cf1e94e8e",
   "metadata": {},
   "source": [
    "```bash\n",
    "module load rocm\n",
    "```"
   ]
  },
  {
   "cell_type": "markdown",
   "id": "8d22385f-716d-4a1f-a4e2-6fd07f608fd7",
   "metadata": {},
   "source": [
    "```bash\n",
    "CC -ggdb -fPIC -I../include -I/opt/rocm/hip/include -I/opt/rocm/hsa/include -I/opt/rocm/llvm/lib/clang/14.0.0/include  mat_elementwise.cpp -o mat_elementwise.exe\n",
    "```\n",
    "\n",
    "```bash\n",
    "CC -ggdb -std=c++11 -D_HIP_ROCclr__ --offload-arch=gfx90a -D__HIP_ARCH_GFX90a=1 --rocm-path=/opt/rocm -L /opt/rocm/hip/lib -lamdhip64 -x hip -I../include mat_elementwise.cpp -o mat_elementwise.exe\n",
    "```\n",
    "\n",
    "```bash\n",
    "module load craype-accel-amd-gfx90a\n",
    "```"
   ]
  },
  {
   "cell_type": "markdown",
   "id": "22c8423c-9cb8-4d5d-89bf-3c080ca686c3",
   "metadata": {},
   "source": [
    "This worked\n",
    "\n",
    "```bash\n",
    "module load PrgEnv-cray \n",
    "```"
   ]
  },
  {
   "cell_type": "markdown",
   "id": "e9b250b7-296c-40c6-9218-1b6956755f6f",
   "metadata": {},
   "source": [
    "This seemed to work\n",
    "\n",
    "```bash\n",
    "CC -std=c++11 -D_HIP_ROCclr__ --offload-arch=gfx90a -D__HIP_ARCH_GFX90a=1 --rocm-path=/opt/rocm -L /opt/rocm/hip/lib -lamdhip64 -x hip -I../include mat_elementwise.cpp -o mat_elementwise.exe\n",
    "```"
   ]
  },
  {
   "cell_type": "code",
   "execution_count": null,
   "id": "e4cb64c8-bda5-4d1a-8d30-cd92fb2b6037",
   "metadata": {},
   "outputs": [],
   "source": [
    "AMDGPU Thread agent-id:queue-id:dispatch-num:wave-id (work-group-z,work-group-y,work-group-x)/\n",
    "work-group-thread-index"
   ]
  },
  {
   "cell_type": "markdown",
   "id": "1d77ef4f-17f2-463a-97ed-4d215df7ed77",
   "metadata": {
    "tags": []
   },
   "source": [
    "## Exercise: compiling your first HIP application\n",
    "\n",
    "At the location [hello_devices.cpp](hello_devices.cpp) is a complete HIP application to obtain the size of on-device memory and the maximum Buffer size that is possible within that memory. \n",
    "\n",
    "* **Step 1.** From the Jupyter launcher start a Terminal and use cd to navigate to the src/L1_Introduction directory in the course material\n",
    "\n",
    "```bash\n",
    "cd src/L1_Introduction\n",
    "```\n",
    "\n",
    "* **Step 2.** You need to know where the HIP ICD loader and HIP header files are located. For this particular example the locations are as follows:\n",
    "\n",
    "| File | Directory |\n",
    "| :--- | :--- |\n",
    "| ICD loader (libHIP.so) | /usr/lib/x86_64-linux-gnu |\n",
    "| HIP C++ headers directory (CL) | /usr/include |\n",
    "\n",
    "\n",
    "In the Terminal use **ls** to list the contents of these directories and locate the **CL** directory in which the HIP header files are located. \n",
    "\n",
    "* **Step 3.** Compile the application source file **hello_devices.cpp** using the **g++** compiler. The compilation command should look like this:\n",
    "\n",
    "```bash\n",
    "g++ -g -O2 -I/usr/include -I../include -L/usr/lib/x86_64-linux-gnu hello_devices.cpp\\\n",
    "    -o hello_devices.exe -lHIP\n",
    "```\n",
    "\n",
    "On Linux you can add the location of the **CL** directory to your **CPATH** environment variable, and the location of **libHIP.so** to both your **LIBRARY** and **LD_LIBRARY_PATH** environment variables. Then you won't need to explicity tell the compiler where the HIP resources are.\n",
    "\n",
    "```bash\n",
    "g++ -g -O2 -I../include hello_devices.cpp -o hello_devices.exe -lHIP\n",
    "```\n",
    "\n",
    "* **Step 4.** Now run the application\n",
    "\n",
    "```bash\n",
    "./hello_devices.exe\n",
    "```\n",
    "\n",
    "You should see at least one device printed with the name and memory sizes. Now that you know how to let the compiler know about HIP you can use the **make** command within that directory to compile the example. "
   ]
  },
  {
   "cell_type": "code",
   "execution_count": 1,
   "id": "4280de34-7ade-4b7f-ab47-a4e3a23ee172",
   "metadata": {},
   "outputs": [
    {
     "name": "stdout",
     "output_type": "stream",
     "text": [
      "rm -r *.exe\n",
      "g++ -std=c++11 -g -O2 -fopenmp -I/usr/include -I../include -L/usr/lib64 hello_devices.cpp\\\n",
      "\t-o hello_devices.exe -lOpenCL -lomp\n",
      "In file included from \u001b[01m\u001b[Khello_devices.cpp:2:0\u001b[m\u001b[K:\n",
      "\u001b[01m\u001b[K../include/cl_helper.hpp:\u001b[m\u001b[K In function ‘\u001b[01m\u001b[K_cl_command_queue** h_create_command_queues(_cl_device_id**, _cl_context**, cl_uint, cl_uint, cl_bool, cl_bool)\u001b[m\u001b[K’:\n",
      "\u001b[01m\u001b[K../include/cl_helper.hpp:315:9:\u001b[m\u001b[K \u001b[01;35m\u001b[Kwarning: \u001b[m\u001b[K‘\u001b[01m\u001b[K_cl_command_queue* clCreateCommandQueue(cl_context, cl_device_id, cl_command_queue_properties, cl_int*)\u001b[m\u001b[K’ is deprecated [\u001b[01;35m\u001b[K-Wdeprecated-declarations\u001b[m\u001b[K]\n",
      "         \u001b[01;35m\u001b[K)\u001b[m\u001b[K;\n",
      "         \u001b[01;35m\u001b[K^\u001b[m\u001b[K\n",
      "In file included from \u001b[01m\u001b[K/usr/include/CL/opencl.h:24:0\u001b[m\u001b[K,\n",
      "                 from \u001b[01m\u001b[K../include/cl_helper.hpp:15\u001b[m\u001b[K,\n",
      "                 from \u001b[01m\u001b[Khello_devices.cpp:2\u001b[m\u001b[K:\n",
      "\u001b[01m\u001b[K/usr/include/CL/cl.h:1906:1:\u001b[m\u001b[K \u001b[01;36m\u001b[Knote: \u001b[m\u001b[Kdeclared here\n",
      " \u001b[01;36m\u001b[KclCreateCommandQueue\u001b[m\u001b[K(cl_context                     context,\n",
      " \u001b[01;36m\u001b[K^~~~~~~~~~~~~~~~~~~~\u001b[m\u001b[K\n"
     ]
    }
   ],
   "source": [
    "!make clean; make"
   ]
  },
  {
   "cell_type": "markdown",
   "id": "2665ce40-aa76-40b8-995a-e939eaa0e408",
   "metadata": {
    "tags": []
   },
   "source": [
    "This application is rather rudimentary, however there is a far more sophisticated HIP query application called **clinfo**. You can use it to query a great deal on information on the available devices. Here we use clinfo to query available platforms and devices."
   ]
  },
  {
   "cell_type": "code",
   "execution_count": 1,
   "id": "f50975a0-42c1-44a3-94fb-cb58ec94f047",
   "metadata": {},
   "outputs": [
    {
     "name": "stdout",
     "output_type": "stream",
     "text": [
      "Platform #0: Intel(R) FPGA Emulation Platform for OpenCL(TM)\n",
      " `-- Device #0: Intel(R) FPGA Emulation Device\n",
      "Platform #1: Intel(R) OpenCL\n",
      " `-- Device #0: AMD EPYC 7571\n",
      "Platform #2: AMD Accelerated Parallel Processing\n"
     ]
    }
   ],
   "source": [
    "!clinfo -l"
   ]
  }
 ],
 "metadata": {
  "kernelspec": {
   "display_name": "Python 3 (ipykernel)",
   "language": "python",
   "name": "python3"
  },
  "language_info": {
   "codemirror_mode": {
    "name": "ipython",
    "version": 3
   },
   "file_extension": ".py",
   "mimetype": "text/x-python",
   "name": "python",
   "nbconvert_exporter": "python",
   "pygments_lexer": "ipython3",
   "version": "3.9.12"
  }
 },
 "nbformat": 4,
 "nbformat_minor": 5
}
