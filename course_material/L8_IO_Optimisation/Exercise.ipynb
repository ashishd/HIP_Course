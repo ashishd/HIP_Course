{
 "cells": [
  {
   "cell_type": "markdown",
   "id": "41d24cde-216c-4dfd-92e6-9d03b3ec0f41",
   "metadata": {},
   "source": [
    "# Exercise - building a layer cake\n",
    "\n",
    "In this exercise the goal is to optimise an iterative code so that copies are performed concurrently with compute. The code [layer_cake.cpp](layer_cake.cpp) is a synchronous application where at each iteration **n** a simple kernel called **fill_plane** fills an on-device allocation in **U_ds** with **n**. \n",
    "\n",
    "After the kernel completes, **hipMemcpy3D** is employed to copy the plane to **out_h**, a 3D array of output planes. We avoid copying plane 1 to work around a bug in the AMD implementation of **hipMemcpy3D**. Hopefully this bug will be fixed in the future.\n",
    "\n",
    "If we make and run the application we can see that it correctly copies all planes other than plane 1."
   ]
  },
  {
   "cell_type": "code",
   "execution_count": 1,
   "id": "359791e3-d314-48c6-a8e1-78fe4037f67a",
   "metadata": {},
   "outputs": [],
   "source": [
    "import subprocess, os"
   ]
  },
  {
   "cell_type": "code",
   "execution_count": 2,
   "id": "5b0d7ed2-2ad1-449d-a0de-52e19d8b58a1",
   "metadata": {},
   "outputs": [
    {
     "name": "stdout",
     "output_type": "stream",
     "text": [
      "make: Nothing to be done for 'all'.\n",
      "Device id: 0\n",
      "\tname:                                    \n",
      "\tglobal memory size:                      536 MB\n",
      "\tavailable registers per block:           65536 \n",
      "\tmaximum shared memory size per block:    65 KB\n",
      "\tmaximum pitch size for memory copies:    402 MB\n",
      "\tmax block size:                          (1024,1024,1024)\n",
      "\tmax threads in a block:                  1024\n",
      "\tmax Grid size:                           (2147483647,2147483647,2147483647)\n",
      "The synchronous calculation took 0.523000 milliseconds.\n",
      "----\n",
      "|  0.00e+00  0.00e+00  0.00e+00  0.00e+00 |\n",
      "|  0.00e+00  0.00e+00  0.00e+00  0.00e+00 |\n",
      "|  0.00e+00  0.00e+00  0.00e+00  0.00e+00 |\n",
      "|  0.00e+00  0.00e+00  0.00e+00  0.00e+00 |\n",
      "----\n",
      "----\n",
      "|  0.00e+00  0.00e+00  0.00e+00  0.00e+00 |\n",
      "|  0.00e+00  0.00e+00  0.00e+00  0.00e+00 |\n",
      "|  0.00e+00  0.00e+00  0.00e+00  0.00e+00 |\n",
      "|  0.00e+00  0.00e+00  0.00e+00  0.00e+00 |\n",
      "----\n",
      "----\n",
      "|  2.00e+00  2.00e+00  2.00e+00  2.00e+00 |\n",
      "|  2.00e+00  2.00e+00  2.00e+00  2.00e+00 |\n",
      "|  2.00e+00  2.00e+00  2.00e+00  2.00e+00 |\n",
      "|  2.00e+00  2.00e+00  2.00e+00  2.00e+00 |\n",
      "----\n",
      "----\n",
      "|  3.00e+00  3.00e+00  3.00e+00  3.00e+00 |\n",
      "|  3.00e+00  3.00e+00  3.00e+00  3.00e+00 |\n",
      "|  3.00e+00  3.00e+00  3.00e+00  3.00e+00 |\n",
      "|  3.00e+00  3.00e+00  3.00e+00  3.00e+00 |\n",
      "----\n",
      "----\n",
      "|  4.00e+00  4.00e+00  4.00e+00  4.00e+00 |\n",
      "|  4.00e+00  4.00e+00  4.00e+00  4.00e+00 |\n",
      "|  4.00e+00  4.00e+00  4.00e+00  4.00e+00 |\n",
      "|  4.00e+00  4.00e+00  4.00e+00  4.00e+00 |\n",
      "----\n",
      "----\n",
      "|  5.00e+00  5.00e+00  5.00e+00  5.00e+00 |\n",
      "|  5.00e+00  5.00e+00  5.00e+00  5.00e+00 |\n",
      "|  5.00e+00  5.00e+00  5.00e+00  5.00e+00 |\n",
      "|  5.00e+00  5.00e+00  5.00e+00  5.00e+00 |\n",
      "----\n",
      "----\n",
      "|  6.00e+00  6.00e+00  6.00e+00  6.00e+00 |\n",
      "|  6.00e+00  6.00e+00  6.00e+00  6.00e+00 |\n",
      "|  6.00e+00  6.00e+00  6.00e+00  6.00e+00 |\n",
      "|  6.00e+00  6.00e+00  6.00e+00  6.00e+00 |\n",
      "----\n",
      "----\n",
      "|  7.00e+00  7.00e+00  7.00e+00  7.00e+00 |\n",
      "|  7.00e+00  7.00e+00  7.00e+00  7.00e+00 |\n",
      "|  7.00e+00  7.00e+00  7.00e+00  7.00e+00 |\n",
      "|  7.00e+00  7.00e+00  7.00e+00  7.00e+00 |\n",
      "----\n",
      "----\n",
      "|  8.00e+00  8.00e+00  8.00e+00  8.00e+00 |\n",
      "|  8.00e+00  8.00e+00  8.00e+00  8.00e+00 |\n",
      "|  8.00e+00  8.00e+00  8.00e+00  8.00e+00 |\n",
      "|  8.00e+00  8.00e+00  8.00e+00  8.00e+00 |\n",
      "----\n",
      "----\n",
      "|  9.00e+00  9.00e+00  9.00e+00  9.00e+00 |\n",
      "|  9.00e+00  9.00e+00  9.00e+00  9.00e+00 |\n",
      "|  9.00e+00  9.00e+00  9.00e+00  9.00e+00 |\n",
      "|  9.00e+00  9.00e+00  9.00e+00  9.00e+00 |\n",
      "----\n"
     ]
    },
    {
     "data": {
      "text/plain": [
       "CompletedProcess(args=['/home/toby/Pelagos/Projects/HIP_Course/course_material/L8_IO_Optimisation/layer_cake.exe'], returncode=0)"
      ]
     },
     "execution_count": 2,
     "metadata": {},
     "output_type": "execute_result"
    }
   ],
   "source": [
    "!make\n",
    "subprocess.run([os.path.join(os.getcwd(),\"layer_cake.exe\")])"
   ]
  },
  {
   "cell_type": "markdown",
   "id": "cb577dd1-e031-4819-aec1-563e7d615d8a",
   "metadata": {},
   "source": [
    "## Your task\n",
    "\n",
    "Using any/all of the IO synchronisation techniques in this lesson, your task is to modify the synchronous solution so that it may copy the plane to **out_h** concurrently with the kernel that fills the plane."
   ]
  },
  {
   "cell_type": "markdown",
   "id": "9fea4117-10f4-479c-abb7-a8409ac610bc",
   "metadata": {},
   "source": [
    "## A concurrent solution\n",
    "\n",
    "One concurrent solution is located in the file [layer_cake_answers.cpp](layer_cake_answers.cpp). If you get stuck you are welcome to use this solution as inspiration for your own, however there are multiple ways (stream, event, or a combination) in which the necessary synchronisation can be implemented."
   ]
  },
  {
   "cell_type": "code",
   "execution_count": 3,
   "id": "e2b7518a-778e-41d0-8aa6-e9e618e6b29b",
   "metadata": {},
   "outputs": [
    {
     "name": "stdout",
     "output_type": "stream",
     "text": [
      "make: Nothing to be done for 'all'.\n",
      "Device id: 0\n",
      "\tname:                                    \n",
      "\tglobal memory size:                      536 MB\n",
      "\tavailable registers per block:           65536 \n",
      "\tmaximum shared memory size per block:    65 KB\n",
      "\tmaximum pitch size for memory copies:    402 MB\n",
      "\tmax block size:                          (1024,1024,1024)\n",
      "\tmax threads in a block:                  1024\n",
      "\tmax Grid size:                           (2147483647,2147483647,2147483647)\n",
      "The asynchronous calculation took 0.409000 milliseconds.\n",
      "Layer - 0\n",
      ":----\n",
      "|  0.00e+00  0.00e+00  0.00e+00  0.00e+00 |\n",
      "|  0.00e+00  0.00e+00  0.00e+00  0.00e+00 |\n",
      "|  0.00e+00  0.00e+00  0.00e+00  0.00e+00 |\n",
      "|  0.00e+00  0.00e+00  0.00e+00  0.00e+00 |\n",
      "----\n",
      "Layer - 1\n",
      ":----\n",
      "|  0.00e+00  0.00e+00  0.00e+00  0.00e+00 |\n",
      "|  0.00e+00  0.00e+00  0.00e+00  0.00e+00 |\n",
      "|  0.00e+00  0.00e+00  0.00e+00  0.00e+00 |\n",
      "|  0.00e+00  0.00e+00  0.00e+00  0.00e+00 |\n",
      "----\n",
      "Layer - 2\n",
      ":----\n",
      "|  2.00e+00  2.00e+00  2.00e+00  2.00e+00 |\n",
      "|  2.00e+00  2.00e+00  2.00e+00  2.00e+00 |\n",
      "|  2.00e+00  2.00e+00  2.00e+00  2.00e+00 |\n",
      "|  2.00e+00  2.00e+00  2.00e+00  2.00e+00 |\n",
      "----\n",
      "Layer - 3\n",
      ":----\n",
      "|  3.00e+00  3.00e+00  3.00e+00  3.00e+00 |\n",
      "|  3.00e+00  3.00e+00  3.00e+00  3.00e+00 |\n",
      "|  3.00e+00  3.00e+00  3.00e+00  3.00e+00 |\n",
      "|  3.00e+00  3.00e+00  3.00e+00  3.00e+00 |\n",
      "----\n",
      "Layer - 4\n",
      ":----\n",
      "|  4.00e+00  4.00e+00  4.00e+00  4.00e+00 |\n",
      "|  4.00e+00  4.00e+00  4.00e+00  4.00e+00 |\n",
      "|  4.00e+00  4.00e+00  4.00e+00  4.00e+00 |\n",
      "|  4.00e+00  4.00e+00  4.00e+00  4.00e+00 |\n",
      "----\n",
      "Layer - 5\n",
      ":----\n",
      "|  5.00e+00  5.00e+00  5.00e+00  5.00e+00 |\n",
      "|  5.00e+00  5.00e+00  5.00e+00  5.00e+00 |\n",
      "|  5.00e+00  5.00e+00  5.00e+00  5.00e+00 |\n",
      "|  5.00e+00  5.00e+00  5.00e+00  5.00e+00 |\n",
      "----\n",
      "Layer - 6\n",
      ":----\n",
      "|  6.00e+00  6.00e+00  6.00e+00  6.00e+00 |\n",
      "|  6.00e+00  6.00e+00  6.00e+00  6.00e+00 |\n",
      "|  6.00e+00  6.00e+00  6.00e+00  6.00e+00 |\n",
      "|  6.00e+00  6.00e+00  6.00e+00  6.00e+00 |\n",
      "----\n",
      "Layer - 7\n",
      ":----\n",
      "|  7.00e+00  7.00e+00  7.00e+00  7.00e+00 |\n",
      "|  7.00e+00  7.00e+00  7.00e+00  7.00e+00 |\n",
      "|  7.00e+00  7.00e+00  7.00e+00  7.00e+00 |\n",
      "|  7.00e+00  7.00e+00  7.00e+00  7.00e+00 |\n",
      "----\n",
      "Layer - 8\n",
      ":----\n",
      "|  8.00e+00  8.00e+00  8.00e+00  8.00e+00 |\n",
      "|  8.00e+00  8.00e+00  8.00e+00  8.00e+00 |\n",
      "|  8.00e+00  8.00e+00  8.00e+00  8.00e+00 |\n",
      "|  8.00e+00  8.00e+00  8.00e+00  8.00e+00 |\n",
      "----\n",
      "Layer - 9\n",
      ":----\n",
      "|  9.00e+00  9.00e+00  9.00e+00  9.00e+00 |\n",
      "|  9.00e+00  9.00e+00  9.00e+00  9.00e+00 |\n",
      "|  9.00e+00  9.00e+00  9.00e+00  9.00e+00 |\n",
      "|  9.00e+00  9.00e+00  9.00e+00  9.00e+00 |\n",
      "----\n"
     ]
    },
    {
     "data": {
      "text/plain": [
       "CompletedProcess(args=['/home/toby/Pelagos/Projects/HIP_Course/course_material/L8_IO_Optimisation/layer_cake_answers.exe'], returncode=0)"
      ]
     },
     "execution_count": 3,
     "metadata": {},
     "output_type": "execute_result"
    }
   ],
   "source": [
    "!make\n",
    "subprocess.run([os.path.join(os.getcwd(),\"layer_cake_answers.exe\")])"
   ]
  },
  {
   "cell_type": "markdown",
   "id": "787aebb9-3d60-4122-ab09-f0c0967b2c82",
   "metadata": {},
   "source": [
    "<address>\n",
    "Written by Dr. Toby Potter of <a href=\"https://www.pelagos-consulting.com\">Pelagos Consulting and Education</a> for the Pawsey Supercomputing Centre\n",
    "</address>"
   ]
  }
 ],
 "metadata": {
  "kernelspec": {
   "display_name": "Python 3 (ipykernel)",
   "language": "python",
   "name": "python3"
  },
  "language_info": {
   "codemirror_mode": {
    "name": "ipython",
    "version": 3
   },
   "file_extension": ".py",
   "mimetype": "text/x-python",
   "name": "python",
   "nbconvert_exporter": "python",
   "pygments_lexer": "ipython3",
   "version": "3.10.9"
  }
 },
 "nbformat": 4,
 "nbformat_minor": 5
}
