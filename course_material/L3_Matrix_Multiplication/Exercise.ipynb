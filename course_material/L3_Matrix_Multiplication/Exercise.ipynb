{
 "cells": [
  {
   "cell_type": "markdown",
   "id": "d6443b86-83d9-45b0-bebc-35d3a64d55da",
   "metadata": {
    "tags": []
   },
   "source": [
    "# Exercise - Hadamard (elementwise) matrix multiplication\n",
    "\n",
    "In this exercise we are going to solidify our understanding of HIP applications using a sister example of Hadamard matrix multiplication. Hadamard multiplication is elementwise multiplication. The values in matrices **D** and **E** at coordinates (i0,i1) are multiplied together to set the value at coordinates (i0,i1) in matrix **F**.\n",
    "\n",
    "<figure style=\"margin-left:auto; margin-right:auto; width:80%;\">\n",
    "    <img style=\"vertical-align:middle\" src=\"../images/elementwise_multiplication.svg\">\n",
    "    <figcaption style= \"text-align:lower; margin:1em; float:bottom; vertical-align:bottom;\">Elementwise multiplication of matrices D and E to get F.</figcaption>\n",
    "</figure>\n",
    "\n",
    "The source code is located in [mat_elementwise.cpp](mat_elementwise.cpp) and is similar to [mat_mult.cpp](mat_mult.cpp) in almost every aspect. \n",
    "\n",
    "1. Device discovery and selection\n",
    "1. Matrices **D_h** and **E_h** allocated on the host and filled with random numbers.\n",
    "1. Matrices **D_d** and **E_d** allocated on the compute device\n",
    "1. Matrices **D_h** and **E_h** uploaded to device allocations **D_d** and **E_d**\n",
    "1. The kernel **mat_elementwise** is run on the device to compute **F_d** from **D_d** and **E_d**.\n",
    "1. **F_d** is copied to **F_h** and compared with the solution **F_answer_h** from sequential CPU code.\n",
    "1. Memory and device cleanup\n",
    "\n",
    "The code is missing some elements:\n",
    "\n",
    "* The source code in [mat_elementwise.cpp](mat_elementwise.cpp) is missing the HIP machinery to upload memory from arrays **D_h** and **E_h** on the host to arrays **D_d** and **E_d** on the compute device.\n",
    "\n",
    "* In addition, the kernel source **mat_elementwise** is missing some code to perform the actual elementwise multiplication.\n",
    "\n",
    "As a HIP developer your task is to fill in the necessary source to enable the program to work correctly."
   ]
  },
  {
   "cell_type": "markdown",
   "id": "6783199c-8d23-4ea1-a11a-478943598af4",
   "metadata": {},
   "source": [
    "## Constructing the inputs and solution\n",
    "\n",
    "We compile and run the program as shown below. The code works with a really small matrix (8,4) and pretty prints matrices so this exercise can be used from a command line."
   ]
  },
  {
   "cell_type": "code",
   "execution_count": 11,
   "id": "06d4be13-9cfd-461e-b984-bab6a678c01e",
   "metadata": {},
   "outputs": [
    {
     "name": "stdout",
     "output_type": "stream",
     "text": [
      "rm -r *.exe\n",
      "hipcc -g -O2 -fopenmp -I/usr/include -I../include -L/usr/lib/x86_64-linux-gnu mat_mult.cpp\\\n",
      "\t-o mat_mult.exe \n",
      "hipcc -g -O2 -fopenmp -I/usr/include -I../include -L/usr/lib/x86_64-linux-gnu mat_elementwise.cpp\\\n",
      "\t-o mat_elementwise.exe \n",
      "hipcc -g -O2 -fopenmp -I/usr/include -I../include -L/usr/lib/x86_64-linux-gnu mat_elementwise_answer.cpp\\\n",
      "\t-o mat_elementwise_answer.exe \n",
      "Device id: 0\n",
      "\tname:                                    \n",
      "\tglobal memory size:                      536 MB\n",
      "\tavailable registers per block:           65536 \n",
      "\tmaximum shared memory size per block:    65 KB\n",
      "\tmaximum pitch size for memory copies:    536 MB\n",
      "\tmax block size:                          (1024,1024,1024)\n",
      "\tmax threads in a block:                  1024\n",
      "\tmax Grid size:                           (2147483647,2147483647,2147483647)\n",
      "The output array F_h (as computed with HIP) is\n",
      "----\n",
      "|  0.00e+00  0.00e+00  0.00e+00  0.00e+00 |\n",
      "|  0.00e+00  0.00e+00  0.00e+00  0.00e+00 |\n",
      "|  2.37e-38  2.37e-38  9.55e-38  9.55e-38 |\n",
      "|  2.37e-38  2.37e-38  3.85e-37  3.85e-37 |\n",
      "|  0.00e+00  0.00e+00  0.00e+00  0.00e+00 |\n",
      "|  0.00e+00  0.00e+00  0.00e+00  0.00e+00 |\n",
      "|  2.37e-38  2.37e-38  9.55e-38  9.55e-38 |\n",
      "|  2.37e-38  2.37e-38  3.85e-37  3.85e-37 |\n",
      "----\n",
      "The CPU solution (F_answer_h) is \n",
      "----\n",
      "|  2.83e-02  1.05e-02  4.52e-01  3.53e-01 |\n",
      "|  6.95e-03  5.24e-01  2.82e-02  2.65e-01 |\n",
      "|  2.16e-01  5.05e-01  1.41e-01  1.26e-01 |\n",
      "|  7.25e-01  1.74e-01  3.25e-01  3.35e-01 |\n",
      "|  2.62e-02  1.34e-01  1.31e-01  1.58e-01 |\n",
      "|  8.66e-02  1.36e-01  4.24e-01  2.13e-01 |\n",
      "|  9.78e-02  2.34e-01  2.96e-02  5.88e-01 |\n",
      "|  1.69e-01  6.79e-01  3.21e-01  4.37e-02 |\n",
      "----\n",
      "The residual (F_answer_h-F_h) is\n",
      "----\n",
      "|  2.83e-02  1.05e-02  4.52e-01  3.53e-01 |\n",
      "|  6.95e-03  5.24e-01  2.82e-02  2.65e-01 |\n",
      "|  2.16e-01  5.05e-01  1.41e-01  1.26e-01 |\n",
      "|  7.25e-01  1.74e-01  3.25e-01  3.35e-01 |\n",
      "|  2.62e-02  1.34e-01  1.31e-01  1.58e-01 |\n",
      "|  8.66e-02  1.36e-01  4.24e-01  2.13e-01 |\n",
      "|  9.78e-02  2.34e-01  2.96e-02  5.88e-01 |\n",
      "|  1.69e-01  6.79e-01  3.21e-01  4.37e-02 |\n",
      "----\n"
     ]
    }
   ],
   "source": [
    "!make clean; make; ./mat_elementwise.exe"
   ]
  },
  {
   "cell_type": "markdown",
   "id": "3de293fd-6981-4c6f-b803-f5e6bfbcdf50",
   "metadata": {},
   "source": [
    "Since there is no upload from host to device for matrices **D_d** and **E_d** the output just contains whatever values happened to be in memory at allocation. Furthermore the kernel is lacking the machinery to compute the actual transformation from **D_d** and **E_d** to **F_d**. The output array **F_d** is therefore full of errors, as seen above. "
   ]
  },
  {
   "cell_type": "markdown",
   "id": "35a9fa7b-ebda-494c-8908-e59722c7a6a1",
   "metadata": {},
   "source": [
    "## The desired answer\n",
    "\n",
    "The source code [mat_elementwise_answer.cpp](mat_elementwise_answer.cpp) contains the full solution. By all means take a peek at the source code if you get stuck. If we run the solution and check the result we get no residual anywhere in the matrix **F**."
   ]
  },
  {
   "cell_type": "code",
   "execution_count": 9,
   "id": "5563a65f-ad96-4ce5-a21c-c963e716571c",
   "metadata": {},
   "outputs": [
    {
     "name": "stdout",
     "output_type": "stream",
     "text": [
      "hipcc -g -O2 -fopenmp -I/usr/include -I../include -L/usr/lib/x86_64-linux-gnu mat_elementwise_answer.cpp\\\n",
      "\t-o mat_elementwise_answer.exe \n",
      "Device id: 0\n",
      "\tname:                                    \n",
      "\tglobal memory size:                      536 MB\n",
      "\tavailable registers per block:           65536 \n",
      "\tmaximum shared memory size per block:    65 KB\n",
      "\tmaximum pitch size for memory copies:    536 MB\n",
      "\tmax block size:                          (1024,1024,1024)\n",
      "\tmax threads in a block:                  1024\n",
      "\tmax Grid size:                           (2147483647,2147483647,2147483647)\n",
      "The output array F_h (as computed with HIP) is\n",
      "----\n",
      "|  9.92e-03  5.07e-03  1.02e-03  2.81e-03 |\n",
      "|  3.59e-01  4.77e-02  1.46e-01  4.86e-01 |\n",
      "|  7.96e-02  2.32e-01  4.60e-02  3.45e-01 |\n",
      "|  4.19e-01  3.30e-01  3.29e-03  3.37e-02 |\n",
      "|  4.78e-01  3.64e-01  5.47e-02  1.33e-01 |\n",
      "|  2.43e-01  9.09e-01  3.42e-01  2.07e-01 |\n",
      "|  1.56e-01  1.04e-01  8.95e-02  4.61e-01 |\n",
      "|  3.95e-01  1.40e-01  2.75e-01  4.09e-02 |\n",
      "----\n",
      "The CPU solution (F_answer_h) is \n",
      "----\n",
      "|  9.92e-03  5.07e-03  1.02e-03  2.81e-03 |\n",
      "|  3.59e-01  4.77e-02  1.46e-01  4.86e-01 |\n",
      "|  7.96e-02  2.32e-01  4.60e-02  3.45e-01 |\n",
      "|  4.19e-01  3.30e-01  3.29e-03  3.37e-02 |\n",
      "|  4.78e-01  3.64e-01  5.47e-02  1.33e-01 |\n",
      "|  2.43e-01  9.09e-01  3.42e-01  2.07e-01 |\n",
      "|  1.56e-01  1.04e-01  8.95e-02  4.61e-01 |\n",
      "|  3.95e-01  1.40e-01  2.75e-01  4.09e-02 |\n",
      "----\n",
      "The residual (F_answer_h-F_h) is\n",
      "----\n",
      "|  0.00e+00  0.00e+00  0.00e+00  0.00e+00 |\n",
      "|  0.00e+00  0.00e+00  0.00e+00  0.00e+00 |\n",
      "|  0.00e+00  0.00e+00  0.00e+00  0.00e+00 |\n",
      "|  0.00e+00  0.00e+00  0.00e+00  0.00e+00 |\n",
      "|  0.00e+00  0.00e+00  0.00e+00  0.00e+00 |\n",
      "|  0.00e+00  0.00e+00  0.00e+00  0.00e+00 |\n",
      "|  0.00e+00  0.00e+00  0.00e+00  0.00e+00 |\n",
      "|  0.00e+00  0.00e+00  0.00e+00  0.00e+00 |\n",
      "----\n"
     ]
    }
   ],
   "source": [
    "!make; ./mat_elementwise_answer.exe"
   ]
  },
  {
   "cell_type": "markdown",
   "id": "d91b193b-40d3-4742-acf9-3220ba6a344e",
   "metadata": {},
   "source": [
    "## Tasks\n",
    "\n",
    "In these set of tasks the aim is to solidify some of the understanding developed in the walkthrough of the code. We are going to read through the documentation of a function and implement some very simple kernel code.\n",
    "\n",
    "1. In the source file [mat_elementwise.cpp](mat_elementwise.cpp) (line 85), re-enable the memory copy from **D_h** and **E_h** on the host to **D_d** and **E_d** using the function **hipMemcpy**. Have a look at the source code for [mat_mult.cpp](mat_mult.cpp) for inspiration.\n",
    "1. Complete the kernel source code in line 37 of [mat_elementwise.cpp](mat_elementwise.cpp) so that a new value in matrix F at coordinates (i0,i1) is constructed from the corresponding values in matrices D and E.\n",
    "    * Make sure you have a guard statement in place so that you don't overrun the bounds of F. See the source code in [mat_mult.cpp](mat_mult.cpp) for an example.\n",
    "    * Use multi-dimensional indexing as shown in the <a href=\"../L2_Survival_C++/Lesson - Survival C++.ipynb\">Survival C++</a> Lesson to index into arrays.\n",
    "    * If you get stuck you can just use the kernel from the answer in [mat_elementwise_answer.cpp](mat_elementwise_answer.cpp).\n",
    "\n"
   ]
  },
  {
   "cell_type": "code",
   "execution_count": 2,
   "id": "db88e2c9-1ab7-44b0-8051-75f9eef47692",
   "metadata": {},
   "outputs": [
    {
     "name": "stdout",
     "output_type": "stream",
     "text": [
      "make: Nothing to be done for 'all'.\n",
      "Device id: 0\n",
      "\tname:                                    \n",
      "\tglobal memory size:                      536 MB\n",
      "\tavailable registers per block:           65536 \n",
      "\tmaximum shared memory size per block:    65 KB\n",
      "\tmaximum pitch size for memory copies:    536 MB\n",
      "\tmax block size:                          (1024,1024,1024)\n",
      "\tmax threads in a block:                  1024\n",
      "\tmax Grid size:                           (2147483647,2147483647,2147483647)\n",
      "The output array F_h (as computed with HIP) is\n",
      "----\n",
      "|  0.00e+00  0.00e+00  0.00e+00  0.00e+00 |\n",
      "|  0.00e+00  0.00e+00  0.00e+00  0.00e+00 |\n",
      "|  0.00e+00  0.00e+00  0.00e+00  0.00e+00 |\n",
      "|  0.00e+00  0.00e+00  0.00e+00  0.00e+00 |\n",
      "|  0.00e+00  0.00e+00  0.00e+00  0.00e+00 |\n",
      "|  0.00e+00  0.00e+00  0.00e+00  0.00e+00 |\n",
      "|  0.00e+00  0.00e+00  0.00e+00  0.00e+00 |\n",
      "|  0.00e+00  0.00e+00  0.00e+00      -nan |\n",
      "----\n",
      "The CPU solution (F_answer_h) is \n",
      "----\n",
      "|  2.73e-04  6.29e-01  2.80e-02  4.72e-02 |\n",
      "|  2.33e-01  9.43e-02  2.41e-01  5.87e-02 |\n",
      "|  1.45e-01  3.86e-03  3.42e-02  4.13e-01 |\n",
      "|  2.90e-01  4.95e-01  2.08e-01  2.20e-02 |\n",
      "|  6.31e-01  4.42e-02  6.40e-01  4.56e-02 |\n",
      "|  2.07e-01  1.08e-02  5.46e-02  1.43e-01 |\n",
      "|  4.58e-01  5.47e-01  2.71e-01  8.86e-02 |\n",
      "|  4.60e-01  6.66e-01  7.96e-02  2.14e-01 |\n",
      "----\n",
      "The residual (F_answer_h-F_h) is\n",
      "----\n",
      "|  2.73e-04  6.29e-01  2.80e-02  4.72e-02 |\n",
      "|  2.33e-01  9.43e-02  2.41e-01  5.87e-02 |\n",
      "|  1.45e-01  3.86e-03  3.42e-02  4.13e-01 |\n",
      "|  2.90e-01  4.95e-01  2.08e-01  2.20e-02 |\n",
      "|  6.31e-01  4.42e-02  6.40e-01  4.56e-02 |\n",
      "|  2.07e-01  1.08e-02  5.46e-02  1.43e-01 |\n",
      "|  4.58e-01  5.47e-01  2.71e-01  8.86e-02 |\n",
      "|  4.60e-01  6.66e-01  7.96e-02      -nan |\n",
      "----\n"
     ]
    }
   ],
   "source": [
    "!make; ./mat_elementwise.exe"
   ]
  },
  {
   "cell_type": "markdown",
   "id": "bdf2f0b4-b73b-470f-b06f-8b24dde83d75",
   "metadata": {},
   "source": [
    "<address>\n",
    "Written by Dr. Toby Potter of <a href=\"https://www.pelagos-consulting.com\">Pelagos Consulting and Education</a> for the Pawsey Supercomputing Centre\n",
    "</address>"
   ]
  }
 ],
 "metadata": {
  "kernelspec": {
   "display_name": "Python 3 (ipykernel)",
   "language": "python",
   "name": "python3"
  },
  "language_info": {
   "codemirror_mode": {
    "name": "ipython",
    "version": 3
   },
   "file_extension": ".py",
   "mimetype": "text/x-python",
   "name": "python",
   "nbconvert_exporter": "python",
   "pygments_lexer": "ipython3",
   "version": "3.9.12"
  }
 },
 "nbformat": 4,
 "nbformat_minor": 5
}
