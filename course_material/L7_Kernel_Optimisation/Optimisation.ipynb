{
 "cells": [
  {
   "cell_type": "markdown",
   "id": "49390830-5c18-41f4-9f1d-18bddc857edd",
   "metadata": {},
   "source": [
    "# Optimising HIP kernels\n",
    "\n",
    "The performance of HIP kernels is a complex **multi-dimensional optimisation problem**. It depends not only on efficient utilisation of hardware threads in compute units, but also on the timeliness and speed that memory is passed in and out of compute units. It is a general rule that vendor-specific libraries such as [rocBLAS](https://rocblas.readthedocs.io/en/rocm-5.6.1/) and [CuBLAS](https://developer.nvidia.com/cublas) are the **best way** to achieve optimal compute performance, however canned solutions are **not always available** for your chosen algorithm. At the same time, HIP implementations and their underlying hardware often have smart technologies built-in to optimise processing for commonly used computing operations. Sometimes the simplest approach works best! At other times better compute performance comes at a **significant increase** in the complexity of a program. When developer time is critical, a piece of code that is performant but complex to understand may not be **ideal** for progress. While HIP is mostly targeted at using GPU's, there is a [CPU implementation](https://github.com/ROCm-Developer-Tools/HIP-CPU/) available, and CPU and GPU architectures are optimsed for different ways of computing. This means that a kernel that performs well on a CPU might perform poorly on a GPU, and vice-versa. **Experimentation to see which strategy works best is the key!** In the following sections we will explore the ways in which kernel performance can be impacted and try a number of strategies to increase performance for the matrix multiplication kernel."
   ]
  },
  {
   "cell_type": "markdown",
   "id": "3b6119ca-fb29-41d3-b8a3-1f86a7078c29",
   "metadata": {},
   "source": [
    "## Compile software\n",
    "\n",
    "### Linux, MacOS, and other Unices"
   ]
  },
  {
   "cell_type": "code",
   "execution_count": null,
   "id": "cce103a9-d35b-48b2-b7a8-7d0585a38306",
   "metadata": {
    "tags": []
   },
   "outputs": [
    {
     "name": "stdout",
     "output_type": "stream",
     "text": [
      "rm -rf *.exe\n",
      "hipcc -c -g -O2 -Xcompiler -fopenmp   -I../include mat_mult_float.cpp -o mat_mult_float.o \n",
      "hipcc -g -O2 -Xcompiler -fopenmp  mat_mult_float.o -o mat_mult_float.exe -lgomp \n",
      "hipcc -c -g -O2 -Xcompiler -fopenmp   -I../include mat_mult_float_restrict.cpp -o mat_mult_float_restrict.o \n",
      "hipcc -g -O2 -Xcompiler -fopenmp  mat_mult_float_restrict.o -o mat_mult_float_restrict.exe -lgomp \n",
      "hipcc -c -g -O2 -Xcompiler -fopenmp   -I../include mat_mult_double.cpp -o mat_mult_double.o \n",
      "hipcc -g -O2 -Xcompiler -fopenmp  mat_mult_double.o -o mat_mult_double.exe -lgomp \n",
      "hipcc -c -g -O2 -Xcompiler -fopenmp   -I../include mat_mult_AT.cpp -o mat_mult_AT.o \n",
      "hipcc -g -O2 -Xcompiler -fopenmp  mat_mult_AT.o -o mat_mult_AT.exe -lgomp \n",
      "hipcc -c -g -O2 -Xcompiler -fopenmp   -I../include mat_mult_BT.cpp -o mat_mult_BT.o \n",
      "hipcc -g -O2 -Xcompiler -fopenmp  mat_mult_BT.o -o mat_mult_BT.exe -lgomp \n",
      "hipcc -c -g -O2 -Xcompiler -fopenmp   -I../include mat_mult_shared_A.cpp -o mat_mult_shared_A.o \n",
      "hipcc -g -O2 -Xcompiler -fopenmp  mat_mult_shared_A.o -o mat_mult_shared_A.exe -lgomp \n",
      "hipcc -c -g -O2 -Xcompiler -fopenmp   -I../include mat_mult_shared_B.cpp -o mat_mult_shared_B.o \n",
      "hipcc -g -O2 -Xcompiler -fopenmp  mat_mult_shared_B.o -o mat_mult_shared_B.exe -lgomp \n",
      "hipcc -c -g -O2 -Xcompiler -fopenmp   -I../include mat_mult_tile_shared_A.cpp -o mat_mult_tile_shared_A.o \n",
      "hipcc -g -O2 -Xcompiler -fopenmp  mat_mult_tile_shared_A.o -o mat_mult_tile_shared_A.exe -lgomp \n",
      "hipcc -c -g -O2 -Xcompiler -fopenmp   -I../include mat_mult_tile_shared_B.cpp -o mat_mult_tile_shared_B.o \n",
      "hipcc -g -O2 -Xcompiler -fopenmp  mat_mult_tile_shared_B.o -o mat_mult_tile_shared_B.exe -lgomp \n",
      "hipcc -c -g -O2 -Xcompiler -fopenmp   -I../include mat_mult_tile_shared_AB.cpp -o mat_mult_tile_shared_AB.o \n",
      "hipcc -g -O2 -Xcompiler -fopenmp  mat_mult_tile_shared_AB.o -o mat_mult_tile_shared_AB.exe -lgomp \n",
      "hipcc -c -g -O2 -Xcompiler -fopenmp   -I../include mat_mult_tile_shared_A_vector.cpp -o mat_mult_tile_shared_A_vector.o \n",
      "hipcc -g -O2 -Xcompiler -fopenmp  mat_mult_tile_shared_A_vector.o -o mat_mult_tile_shared_A_vector.exe -lgomp \n",
      "hipcc -c -g -O2 -Xcompiler -fopenmp   -I../include mat_mult_tile_shared_B_vector.cpp -o mat_mult_tile_shared_B_vector.o \n",
      "hipcc -g -O2 -Xcompiler -fopenmp  mat_mult_tile_shared_B_vector.o -o mat_mult_tile_shared_B_vector.exe -lgomp \n",
      "hipcc -c -g -O2 -Xcompiler -fopenmp   -I../include mat_mult_tile_shared_AB_vector.cpp -o mat_mult_tile_shared_AB_vector.o \n"
     ]
    }
   ],
   "source": [
    "!make clean; make"
   ]
  },
  {
   "cell_type": "markdown",
   "id": "01040902-83df-4355-bb79-0f7bee634db1",
   "metadata": {},
   "source": [
    "### Windows"
   ]
  },
  {
   "cell_type": "code",
   "execution_count": null,
   "id": "6846e354-243b-457e-8c91-968285fa4c06",
   "metadata": {
    "tags": []
   },
   "outputs": [],
   "source": [
    "#!nmake /f Makefile_win.mak"
   ]
  },
  {
   "cell_type": "markdown",
   "id": "eb0753b4-fe8a-4b64-bab0-7d7c0c2d6926",
   "metadata": {},
   "source": [
    "## Fundamentals of CPU and GPU architectures\n",
    "\n",
    "It is helpful to first cover the fundamentals of computer architectures and explore differences between CPU's and GPU's. \n",
    "\n",
    "### Hardware threads and processing elements\n",
    "\n",
    "From the introduction we have seen that that a processor is partitioned into compute units, and each compute unit provides a number of hardware threads that execute the instructions in software threads. \n",
    "\n",
    "<figure style=\"margin-bottom 3em; margin-top: 2em; margin-left:auto; margin-right:auto; width:60%\">\n",
    "    <img style=\"vertical-align:middle\" src=\"../images/Intel-8th-Gen Core-3.jpg\"> <figcaption style= \"text-align:lower; margin:1em; float:bottom; vertical-align:bottom;\">Figure: A processor die showing an eighth-generation <span>Intel&trade;</span> <span>Core&trade;</span> processor. Image used with permission courtesy of Intel Corporation. </figcaption>\n",
    "</figure>\n",
    "\n",
    "Compute units (cores) have a clock cycle and can perform a limited number of instructions per cycle. During the execution of a program, instructions such as math commands are executed on the hardware threads, using memory that is passed in and out of the core from a hierarchy of caches. If this memory does not arrive on time, or get disposed of on time, then the hardware threads will stall and performance may be impacted. "
   ]
  },
  {
   "cell_type": "markdown",
   "id": "97402496-647a-4e9e-ab6e-df6ae50d324d",
   "metadata": {},
   "source": [
    "### Cache topics\n",
    "\n",
    "#### Hierarchy\n",
    "\n",
    "The fastest memory locations in a processor core (either CPU or GPU) are the registers. They operate at or near the same clock speed as the core and are located on the processor die close to the hardware that performs compute operations. This memory is not cheap however, and memory for a computation is shuffled to and from the processor through a hierarchy of caches with the following sizes and locations:\n",
    "\n",
    "* Register, fastest memory (tens of kB)\n",
    "* L1 cache, fast on-die memory (tens of kB)\n",
    "* L2 cache, fast on-die memory (hundreds of kB)\n",
    "* L3 cache, fast memory near the device or on-die. (few MB to tens of MB)\n",
    "* Global or device memory (RAM, few GB onwards)\n",
    "\n",
    "The most frequently used memory is stored in the lowest level (L1, L2) caches. Memory that is not used as often is evicted to the slower (L2, L3) caches as necessary. Memory that is rarely used is flushed out to global memory."
   ]
  },
  {
   "cell_type": "markdown",
   "id": "f6e48ad5-9b65-4788-b45d-4dbc737b8889",
   "metadata": {},
   "source": [
    "#### Cache lines - the fundamental unit of memory transactions\n",
    "\n",
    "Memory passed from caches doesn't arrive at a processor core in units of individual bytes, instead it arrives in transactional units called **cache lines**. Cache lines are around 64-128 bytes, which can store 16-32 floating point numbers.\n",
    "\n",
    "<figure style=\"margin-bottom 3em; margin-top: 2em; margin-left:auto; margin-right:auto; width:60%\">\n",
    "    <img style=\"vertical-align:middle\" src=\"../images/cache_line.svg\"> <figcaption style= \"text-align:lower; margin:1em; float:bottom; vertical-align:bottom;\">Figure: A cache line 64 bytes wide. </figcaption>\n",
    "</figure>\n",
    "\n",
    "This means that if a processor needs to fetch from or store a single value in memory, then the cache hierarchy must transport the **entire cache line** in which the value is located. Caches have slots in them where cache lines can be stored, however if a cache line is not in the faster caches, then it must be fetched from **main memory** at the cost of wasted processor cycles. \n",
    "\n",
    "> A key to achieving good performance with memory access is to **try and use as many neighbouring elements in cache line as possible** by subsequently fetching and storing memory that is in the immediate \"neighbourhood\" of a memory access. \n",
    "\n",
    "In the context of HIP, it is advantageous if neighbouring threads in a block access neighbouring memory locations. Then memory transfers can be shared among threads in what is known as **coalesced memory access**."
   ]
  },
  {
   "cell_type": "markdown",
   "id": "1cf5fe13-d3a5-4e39-af39-f5cf033270a0",
   "metadata": {},
   "source": [
    "#### Latency\n",
    "\n",
    "Latency is the number of cycles a processing element has to wait for memory to arrive from a cache. here are some indicative numbers on latency for CPU and GPU caches.\n",
    "\n",
    "| Cache | memory latency (clock cycles on a CPU) | memory latency (clock cycles on a GPU)\n",
    "|:----:|-----:|-----:|\n",
    "|   Register  | ~1 | ~20 |\n",
    "|   L1  | ~4 | ~30-100|\n",
    "| L2 | ~8-12 | ~175-300 |\n",
    "| L3 | ~24-40 | NA |\n",
    "| Device memory | >= 100 | 300-800 | \n",
    "\n",
    "Sources for these numbers: [GPU numbers 1](http://lpgpu.org/wp/wp-content/uploads/2013/05/poster_andresch_acaces2014.pdf), [GPU numbers 2](https://arxiv.org/pdf/1804.06826.pdf), [CPU numbers 1](http://techreport.com/review/27018/intel-xeon-e5-2687w-v3-processor-reviewed/4), [CPU numbers 2](https://www.anandtech.com/show/16529/amd-epyc-milan-review/4).\n",
    "\n",
    "From this table we can see that the memory latency for GPU is orders of magnitude slower than for CPU's. GPU vendors get around this problem by having **deep execution pipelines** with many teams of hardware threads active (ready to execute instructions) per processor core. If one team stalls while waiting for memory, another team can take over. It is therefore desirable to have as many teams ready to take over as a compute unit will support. The ratio of active teams to the maximum number of teams on a compute unit is called **occupancy**. It is desirable to achieve a high degree of occupancy for a kernel."
   ]
  },
  {
   "cell_type": "markdown",
   "id": "10cc6577-c916-460e-b997-53667bafac7e",
   "metadata": {},
   "source": [
    "#### Throughput\n",
    "\n",
    "Throughput is a measure of how fast memory can be transported from a cache to the processing element. As follows is a rough guide on what one can expect to see from CPU and GPU cache throughput.\n",
    "\n",
    "| Cache | speed (GB/s on a CPU) | speed (GB/s on a GPU) |\n",
    "|:----:|-----:|-----:|\n",
    "|   L1  | 2000-4000 | ~1000+ |\n",
    "| L2 | 1000-1500 | ~1000 |\n",
    "| L3 | 500-1000 |NA|\n",
    "| Device memory | 16 - 128 | 100-1200 |\n",
    "\n",
    "Sources for these numbers: [CPU numbers](http://www.tested.com/tech/457440-theoretical-vs-actual-bandwidth-pci-express-and-thunderbolt), [GPU numbers](http://meseec.ce.rit.edu/551-projects/spring2015/3-2.pdf)"
   ]
  },
  {
   "cell_type": "markdown",
   "id": "1f9b6818-3486-4334-9fd1-987af13078a6",
   "metadata": {},
   "source": [
    "#### Thoughts on latency and throughput with HIP kernels in mind\n",
    "\n",
    "With either CPU or GPU compute units we must make sure to make best use of cache lines. This means creating blocks whose neighbouring threads also work on neighbouring elements of a memory allocation. It seems that throughput from global memory is significantly faster on a GPU device, however memory will take more cycles to arrive. "
   ]
  },
  {
   "cell_type": "markdown",
   "id": "01881b8f-bb41-4ad4-ba9b-4d1f49213837",
   "metadata": {},
   "source": [
    "### CPU architecture specifics\n",
    "\n",
    "CPU's usually have fewer than 100 compute units (cores), and each compute unit has sophisticated instruction handling and nice things like pre-emptive memory fetching and branch prediction. One can think of CPU compute units as **smart workers**, and the cache latency timings above indicate CPU's are more nimble than GPU's. The compute units in a CPU each provide a number of hardware threads that can execute instructions independently of each other. CPU's have registers, and on-die L1 and L2 caches. The L3 cache is usually also on-die, but is in an area that is commonly accessible to other compute units. In <span>AMD&trade; Zen&trade; 3+</span>  CPU's the compute units are grouped into chiplets of 8 cores called core complexes (CCX's), and an L3 cache on the chiplet services all 8 cores. \n",
    "\n",
    "<figure style=\"margin-bottom 3em; margin-top: 2em; margin-left:auto; margin-right:auto; width:80%\">\n",
    "    <img style=\"vertical-align:middle\" src=\"../images/cpu_cores.svg\"> <figcaption style= \"text-align:lower; margin:1em; float:bottom; vertical-align:bottom;\">Figure: Section of a CPU processor, showing Compute Units (cores), each with floating point SIMD units and integer pipelines. </figcaption>\n",
    "</figure>\n",
    "\n",
    "In terms of math operations, CPU's have integer processing and SIMD (Single Instruction Multiple Data) math units that can perform operations on vectors of numbers **with one instruction**. At the time of writing, vectors of up to 8-16 floats (AVX2-AVX512) may be processed at a time using the SIMD units of a CPU. It depends largely on what kind of vector instructions are supported by the chipset.\n",
    "\n",
    "> Getting good floating point performance from a CPU is **critically** dependent on wether or not one can effectively leverage the SIMD units of the CPU. Using **vectors** is a way to provide strong hints the to implementation's device compiler to emit vector instructions that work on the CPU.\n",
    "\n",
    "#### Example specifications\n",
    "\n",
    "Here are some specifications of CPU's for Pawsey's previous generation supercomputer Magnus, and the latest supercomputer Setonix.\n",
    "\n",
    "| Computer | CPU | Peak clock frequency (GHz) | Cores | Hardware threads | L1 Cache (KB) | L2 Cache (KB) | L3 cache (MB) | FP SIMD width (bits) | Peak TFLOPS (FP32 calculated) |\n",
    "|:----:|:----:|-----:| -----: | -----: | :----: | :----: | :----: | :----: | :----: |\n",
    "| Magnus | Intel Xeon 2690 v3 | 3.5 | 12 | 24 | 12x32 | 12x256 | 30 | 256 | 0.34 |\n",
    "| Setonix |AMD EPYC 7763 | 3.5 | 64 | 128 | 64x32 | 64x512 | 8x32 | 256 | 1.8 |\n",
    "\n",
    "Source for the CPU specs [Xeon](http://www.cpu-world.com/CPUs/Xeon/Intel-Xeon%20E7-4850%20v4.html) and [Epyc](https://en.wikipedia.org/wiki/Epyc)."
   ]
  },
  {
   "cell_type": "markdown",
   "id": "945b8be1-039a-4e60-bce9-5b142c7dee84",
   "metadata": {},
   "source": [
    "### GPU architecture specifics\n",
    "\n",
    "There is some confusing terminology on what exactly is a processor core in GPU's. We define a core as that which can fetch and issue instructions. Like CPU's, GPU's also have cores or compute units, called **Streaming Multiprocessors** in NVIDIA terminology, **Compute Units** in AMD terminology, and **Xe-Cores** in Intel terminology. Each of these compute units schedule instructions, move data in the caches, and can be considered the **actual cores** in a GPU processor. \n",
    "\n",
    "Instructions issued by the compute units are executed by a team of hardware threads, each with SIMD-like math units that perform physical operations on data in **lock-step** with the units in other hardware threads (lanes) in the team. These units are called **CUDA Cores** in NVIDIA terminology, and **Shader Cores** in AMD terminology. On NVIDIA hardware, teams are 32-64 lanes wide and are known as **warps**, and on AMD hardware teams are also 32-64 lanes wide and are known as **wavefronts**. The diagram below shows the layout of lanes for compute units.\n",
    "\n",
    "<figure style=\"margin-bottom 3em; margin-top: 2em; margin-left:auto; margin-right:auto; width:100%\">\n",
    "    <img style=\"vertical-align:middle\" src=\"../images/gpu_cores.svg\"> <figcaption style= \"text-align:lower; margin:1em; float:bottom; vertical-align:bottom;\">Figure: Floating point units (FP32), registers, and caches for different GPU's. </figcaption>\n",
    "</figure>\n",
    "\n",
    "There is a slight bit of confusion to navigate here. In AMD/CUDA terminology a *thread* is synonymous with the execution of a kernel instance as part of a block. It is a concept from the software space. In the hardware space, kernel instructions are physically executed by a hardware thread in a lane of a thread team. One or more thread teams may particpate in a block, which means neighbouring threads in a block may not be part of the same thread team. \n",
    "\n",
    "An efficient choice for the number of threads in a block is naturally a **multiple** of the team size. The **warpsize** field of a **hipDeviceProp_t** structure from a call to **hipGetDeviceProperties** will inform you how many lanes are in a thread team.\n",
    "\n",
    "#### SIMT and how it differs from SIMD\n",
    "\n",
    "The model discussed above for executing instructions in lock-step over thread teams is known as SIMT (Single Instruction Multiple Threads). As with SIMD, each compute unit executes the same instruction over every hardware thread (lane) in the team. The crucial distinction between SIMD and SIMT is that each lane of a thread team has a degree of self determination. Each lane has access to its own data and the ability to execute a unique (to a thread) code path. Since lanes in a team execute in lock-step with each other, all hardware threads in the team **must** come along for the ride and participate in **every** unique code path. It is therefore good for performance to keep the number of unique paths to a **minimum**. Results from threads that are not meant to participate in a code path are **masked out**.  \n",
    "\n",
    "In summary, for SIMD a single vector instruction **must apply to all elements** of a vector and no path divergence is possible. SIMT allows for hardware threads to follow unique code paths, with the condition that all code paths must be visited by every hardware thread in the team, even if the their results are masked out.\n",
    "\n",
    "#### Lightweight thread switching \n",
    "\n",
    "A compute unit can switch between thread teams with **minimal overhead**, so it can switch to a thread team that is ready to execute instructions while other thread teams wait for memory to arrive. "
   ]
  },
  {
   "cell_type": "markdown",
   "id": "e3c6fcf4-5e84-4074-90d7-d26886122c88",
   "metadata": {
    "jp-MarkdownHeadingCollapsed": true,
    "tags": []
   },
   "source": [
    "#### Example specifications for supercomputing GPU's\n",
    "\n",
    "Here are some specifications on more recent GPU's for supercomputing. NVIDIA has separate math units for 32-bit and 64-bit floating point instructions. AMD has a more SIMD-like approach to computing floats, which means that on the MI200 architecture a 64-bit floating point arithmetic can proceed at the same rate as 32-bit math.\n",
    "\n",
    "| Card | Boost clock (GHz)| Compute Units | FP32 Processing Elements | FP64 Processing Elements (equivalent compute capacity) | L1 Cache (KB) | L2 Cache (KB) | device memory (GB) | Peak Tflops (FP32)| Peak Tflops (FP64)|\n",
    "|:----:|:-----| :----- | :----- | :---- | :---- | :---- | :---- | :---- | :---- |\n",
    "| NVIDIA Tesla K40 | 0.875 | 15 | 2880 | 960 | 48 | 1536 | 12 |5.04|1.68|\n",
    "| NVIDIA Tesla M60 |1.178 |32| 4096| NA | 32x2x48 | 3072 | 8 |4.8|0.151|\n",
    "| NVIDIA Tesla P100 |1.480| 56 | 3584 | 1792 | 56x64| 4096 | 16 |10.6|5.3|\n",
    "| NVIDIA Tesla V100 |1.530| 80 | 5120 | 2560 | 80x96 | 6144 | 16 |15.7|7.8|\n",
    "| NVIDIA Tesla A100 |1.410| 108 | 6912 | 3456 | 108x164 | 40960 | 40 |19.5|9.7|\n",
    "| AMD Radeon Instinct MI50 |1.746 | 60 | 3840 | (1920) | 60x16 | 4000 | 16 |13.4 |6.7|\n",
    "| AMD Radeon Instinct MI100 |1.502 | 120 | 7680 | (3480)  | 120x16 | 8000 | 32|23.1 |11.5|\n",
    "| AMD Radeon Instinct MI200 |1.7 | 208 | 13312 | 13312 | 208x16 | 16000 | 128 | 45.3 | 45.3 |\n",
    "| AMD Radeon Instinct MI250x |1.7 | 220 | 14080 | 14080 | 220x16 | 16000 | 128 | 47.9 | 47.9 |\n",
    "\n",
    "Source for these numbers [Acceleware](https://training.acceleware.com/blog/Tesla-Meets-Maxwell), [NVIDIA](https://devblogs.nvidia.com/inside-volta/), [AMD](https://www.amd.com/en/graphics/servers-radeon-instinct-mi), [Microway](https://www.microway.com/knowledge-center-articles/in-depth-comparison-of-nvidia-tesla-maxwell-gpu-accelerators/), and [TechPowerup](https://www.techpowerup.com/gpudb/2760/tesla-m60)."
   ]
  },
  {
   "cell_type": "markdown",
   "id": "625ecae2-06cc-42e2-9140-5dc5db6b38ae",
   "metadata": {},
   "source": [
    "#### Occupancy\n",
    "\n",
    "GPU vendors overcome memory latency shortcomings by having **deep execution pipelines**, meaning that multiple teams (warps or wavefronts) can be active (in the process of executing instructions) on a compute unit at any one time. A block can have more than one thread team in it and a compute unit can switch focus between thread teams in blocks **with minimal overhead**, to hide latencies while memory is being fetched. Naturally one would want as many thread teams active as possible, and **Occupancy** is a term used to describe the ratio of how many teams **are active** vs how many **can be** active. Full occupancy is generally good for performance, but there are a number of limits that can impact occupancy, such as the following:\n",
    "\n",
    "* limits on blocks per compute unit\n",
    "* limits on the number of thread teams per compute unit\n",
    "* limits on threads per block\n",
    "* limits on threads per compute unit\n",
    "* limits on registers per compute unit\n",
    "* limits on registers per block\n",
    "* limits on shared memory per compute unit\n",
    "* limits on shared memory per block\n",
    "\n",
    "If the number of software threads in a block is too low, then occupancy is reduced by the limit of permissible blocks per compute unit. If it is too large then you either might not be able to schedule a kernel, or synchronisation between thread teams becomes time consuming. \n",
    "\n",
    "##### Registers and occupancy\n",
    "\n",
    "If each thread uses too many registers, or the block uses too much shared memory, then that can reduce performance through either limiting occupancy or spilling over into scratch (global memory) at the price of greater latency. If your kernel is large and uses **too many registers** then consider finding ways to split the computation over successive lightweight kernel calls. You can find the number of registers deployed and occupancy achieved with the hipcc compiler flags `-Rpass-analysis=kernel-resource-usage` and `--save-temps`. See [this AMD blog post on register pressure](https://gpuopen.com/learn/amd-lab-notes/amd-lab-notes-register-pressure-readme/) for more helpful tips on reducing register pressure and increasing occupancy.\n",
    "\n",
    "The function **hipGetDeviceProperties** can help us get a struct from which we can query both the maximum number of registers per block (in the field `regsPerBlock`) and the maximum number of threads that can be active on a Compute Unit or Streaming Multiprocessor (in the field `maxThreadsPerMultiProcessor`). The ratio of these two properties is an indication of how many registers are available to a thread if full occupancy is to be achieved.\n",
    "\n",
    "The tool Omniperf can also highlight how many Vector General Purpose Registers (VGPRS) and Scalar General Purpose Registers (SGPRS) are being used in a kernel.\n",
    "\n",
    "##### Launch bounds as a compiler hint\n",
    "\n",
    "When deciding how many registers to allocate to a kernel, the compiler takes account the maximum number of threads that are possible per block and the number of blocks that will run per compute unit or streaming multiprocessor. On [AMD architectures](https://gpuopen.com/learn/amd-lab-notes/amd-lab-notes-register-pressure-readme/) registers are allocated assuming a maximum of 1024 threads per block may be used at launch. One can modify this assumption using the `__launch_bounds__(MAX_THREADS_PER_BLOCK, MIN_BLOCKS_PER_CU, MAX_BLOCKS_PER_CU)` kernel qualifier. An example kernel with launch bounds specified is below:\n",
    "\n",
    "```C++\n",
    "#define MAX_THREADS_PER_BLOCK 256\n",
    "#define MIN_BLOCKS_PER_CU 1\n",
    "#define MAX_BLOCKS_PER_CU 8\n",
    "\n",
    "// standard matrix multiply kernel\n",
    "__global__ void __launch_bounds__(MAX_THREADS_PER_BLOCK, MIN_BLOCKS_PER_CU, MAX_BLOCKS_PER_CU) mat_mult (\n",
    "        float_type* A, \n",
    "        float_type* B, \n",
    "        float_type* C, \n",
    "        size_t N1_A, \n",
    "        size_t N0_C,\n",
    "        size_t N1_C) { \n",
    "            \n",
    "    ///...\n",
    "} \n",
    "```\n",
    "For our kernels we plan on using up to 1024 threads per block, and during compilation we see that the number of registers used is low. Therefore we do not need to try using launch bounds to optimise performance.\n",
    "\n",
    "##### Available work as a limit on occupancy\n",
    "\n",
    "Sometimes occupancy is simply limited by not having enough parallel work scheduled to keep a sufficient number of work items busy.\n",
    "\n",
    "For the matrix multiplication algorithm as it stands, we are using a small number of private variables and we have one work item for every element in matrix C. For a matrix size of $1024^{2}$ there can be just over $1,048,576$ or threads (kernel invocations). We will see if this is enough work to keep the MI250X and NVIDIA RTX 3060 GPU's at full occupancy.\n",
    "\n",
    "###### Limits for the MI250X\n",
    "\n",
    "From this [source](https://gpuopen.com/learn/amd-lab-notes/amd-lab-notes-register-pressure-readme/#:~:text=This%20means%20that%20the%20physical,the%20most%20common%20occupancy%20limiters.) and from the `maxThreadsPerMultiProcessor` property, the CDNA2 architecture present in the Radeon Instinct MI250x GPU may have 32 wavefronts (32x64=2048 threads) active on a compute unit at any one time. If we query **regsPerBlock** on the MI250x we see that there are a maximum of 65,536 vector registers available per block if only 1 block occupies a compute unit. This means at full occupancy each kernel must ideally consume up to **65536/2048 ~= 32** registers before occupancy will be affected. Since there are 110 compute units in MI250x GCD there can be 110x32x64 = 225,280 threads active at any one time on a MI250x.\n",
    "\n",
    "###### Limits for NVIDIA compute capability 8.6\n",
    "\n",
    "From the occupancy table in [NVIDIA Nsight Compute](https://developer.nvidia.com/nsight-compute)  and from the `maxThreadsPerMultiProcessor` property, an NVIDIA RTX 3060 with CUDA compute capability 8.6 can have 48 warps (48x32=1536 threads) active per streaming multiprocessor active at any one time. As with AMD processors there are 65,536 registers available per streaming multiprocessor (compute unit). Therefore at fully occupancy each kernel must ideally consume up to **65536/1536 ~= 42** registers before occupancy will be affected. Since there are 28 streaming multiprocessors then 28x1536 = 43,008 threads may be active at any one time. \n",
    "\n",
    "With either architecture we know there is more than enough work scheduled to keep the Compute Units / Streaming Multiprocessors busy. In the default matrix multiplication algorithm there is no shared memory usage and very little register usage, so we anticipate that the GPU can sustain full occupancy with the right block size.\n",
    "\n",
    "##### Tips for maximising occupancy\n",
    "\n",
    "Some tips for maximising occupancy are:\n",
    "\n",
    "* Schedule blocks whose number of threads are a multiple of thread team size.\n",
    "* Keep the number of private variables (register usage) low. From [this blog post on register pressure](https://gpuopen.com/learn/amd-lab-notes/amd-lab-notes-register-pressure-readme/) and [this blog post on optimising a Laplacian](https://gpuopen.com/learn/amd-lab-notes/amd-lab-notes-finite-difference-docs-laplacian_part3/), some tips to reduce register usage are:\n",
    "    * Split the computation over successive lighter-weight kernels.\n",
    "    * Avoid passing in objects to kernels if they use a lot of memory.\n",
    "    * Avoid allocating large static arrays within a kernel.\n",
    "    * Declare variables within code blocks, use these variables close to the computation.\n",
    "    * Function calls from within a kernel are inlined. Avoid too many function calls.\n",
    "    * Set the `__launch_bounds__` qualifer on kernels to set expectations for the compiler on the maximum number of threads in a block and the minimum number of active thread teams to have ready.\n",
    "    * Manually use shared memory to store extra variables if absolutely necessary.\n",
    "* Keep the shared memory usage low\n",
    "* Keep the workload consistent across workgroups\n",
    "* If possible schedule enough work so that every compute unit in the GPU can achieve full occupancy."
   ]
  },
  {
   "cell_type": "markdown",
   "id": "8bbc40a5-660b-42fb-a4ba-bb734af29950",
   "metadata": {},
   "source": [
    "#### Instruction branching in GPU kernels (thread divergence)\n",
    "\n",
    "Work-items in thread teams on GPU's execute instructions in **lock-step** with each other. One needs to be careful then to avoid building kernels where individual work-items execute different (and lengthy) code paths, because then the whole team has to visit each code path. For example the following kernel code is not ideal because work-items with even-numbered worker_id's execute work package 1 while the odd-numbered workers are masked out, then the odd-numbered threads in the team execute work package 2 while the even threads are masked out. In either case the team as a whole must visit every code path together, which degrades performance on GPU's.\n",
    "\n",
    "```C++\n",
    "    size_t worker_id = get_local_id(0);\n",
    "    \n",
    "    if (worker_id % 2 == 0) {\n",
    "    \n",
    "        // Work package 1\n",
    "    \n",
    "    } else {\n",
    "        \n",
    "        // Work package 2\n",
    "    \n",
    "    }\n",
    "    ...\n",
    "```"
   ]
  },
  {
   "cell_type": "markdown",
   "id": "6915f102-5f20-4fd6-b58e-ba0b5b29e368",
   "metadata": {},
   "source": [
    "#### Matrix and tensor core availability in HIP\n",
    "\n",
    "Up to this point I have completely skipped over the extra matrix (AMD, INTEL) and tensor (NVIDIA) core functionality present in modern GPU's. This special matrix processing machinery has applications in machine learning and deriving the very best performance out of your hardware. On AMD and NVIDIA hardware these instructions are accessed through vendor-specfic instructions. The use of these instructions comes at the expense of HIP portability, however in your kernel you can use an `#ifdef` with macros such as `__HIP_PLATFORM_NVIDIA__` or `__HIP_PLATFORM_AMD__` to work out which vendor instruction to use."
   ]
  },
  {
   "cell_type": "markdown",
   "id": "e666b25d-e043-43ba-b640-707df5d25864",
   "metadata": {},
   "source": [
    "## Strategies to optimise the use of your compute devices\n",
    "\n",
    "With this hardware background in mind we can now go about exploring ways to improve performance in kernels. The matrix multiplication example is a trial algorithm we can use to see how specific techniques respond."
   ]
  },
  {
   "cell_type": "markdown",
   "id": "fadd7ecf-576b-4126-9adb-f4e9441db38a",
   "metadata": {},
   "source": [
    "### Floating point operations\n",
    "\n",
    "Math operations (such as multiply or add) on floating point numbers are an essential component of scientific applications. These operations are typically performed on 32- or 64-bit numbers, however 16-bit operations are becoming popular in machine learning as those do not require extremely precise calculations. Performance of a processor is measured in FLOPS, or the total number of floating point operations its compute units can perform in one second. At the time of writing units of gigaFLOPS ($10^{9}$), teraFLOPS ($10^{12}$), petaFLOPS ($10^{15}$), and exaFLOPS ($10^{18}$) are commonly used to describe compute device performance.\n",
    "\n",
    "The raw floating point performance of a compute device is very much dependent on precision and wether or not the architecture is built for it. Gaming hardware is often optimised for 32-bit floats, and 64-bit processing may be emulated in software or accomplished with fewer cores. For example the RTX 3060 graphics card has a 64-bit floating point processing rate that is **64 times lower** than 32-bit due to having 64 times fewer 64-bit capable processing elements. CPU's have SIMD processing units that can process vectors of floats with a single instruction. At the time of writing vectors of up to 512 bits (16 floats) can be processed in a single clock cycle by AVX-512 instructions.\n",
    "\n",
    "Compute performance within a kernel is also determined by the type of math instruction performed. Addition, multiplication, and fused multiply-add are among the **cheapest** operations to perform (costing a few processor cycles), whereas division, square-root, and trigonometric functions are typically an **order of magnitude** more expensive. Writing your kernels to minimise expensive math operations will help, however waiting for memory is time consuming, and during those times kernel math can often be done for free."
   ]
  },
  {
   "cell_type": "markdown",
   "id": "e197a452-fe28-47c5-904e-de0394c44229",
   "metadata": {},
   "source": [
    "### Arithmetic intensity and working out where to spend the effort\n",
    "\n",
    "The **Arithmetic intensity** of an algorithm is the ratio of FLOPS computed per Byte transferred. It helps us gauge if an algorithm is likely to be constrained by bandwidth or floating point performance. For our problem matrix A is of size ($N_{0,C}, N_{1,A}$) and B is of size ($N_{1,A}, N_{1,C}$). Every element of matrix C requires $N_{1,A}$ loads from A, $N_{1,A}$ loads from B, and 1 store to C. It also requires $N_{1,A}$ multiplications and $N_{1,A}$ additions. The arithmetic intensity of matrix multiplication is then\n",
    "\n",
    "$$ a = \\frac{2N1_A}{(2N1_A+1)b} $$\n",
    "\n",
    "where **b** is the number of bytes stored per element. When $N1_A$ is large the arithmetic intensity for matrix multiplication is\n",
    "\n",
    "$$ a \\approx \\frac{1}{b}. $$\n",
    "\n",
    "If a processor has a peak floating point performance of $F_{P}$ FLOP/second, and a particular cache can feed that processor at a peak bandwidth of $B_{P}$ bytes/second then we can calculate a floating point limit that is dependent on memory bandwidth.\n",
    "\n",
    "$$F_{B} = a  \\frac{\\mbox{FLOP}}{\\mbox{byte}} B_{P}\\frac{\\mbox{byte}}{\\mbox{second}} = a B_{P} \\frac{\\mbox{FLOP}}{\\mbox{second}}$$ \n",
    "\n",
    "The actual attainable floating point performance will be either $F_{B}$ or $F_{P}$, whatever is lower. If we set $F_{B} = F_{P}$ then we can solve for the crossover point in arithmetic intensity.\n",
    "\n",
    "$$a_{0}=\\frac{F_{P}}{B_{P}}$$\n",
    "\n",
    "Therefore the limits (or roofline) on performance is as follows:  \n",
    "\n",
    "$$\n",
    "F = \\left \\{\n",
    "\\begin{array}{rl}\n",
    "aB_{P} & \\mbox{if} \\space a<\\frac{F_{P}}{B_{P}},\\\\\n",
    "F_{P}& \\mbox{otherwise}\n",
    "\\end{array}\n",
    "\\right .\n",
    "$$\n",
    "\n",
    "For example, the AMD Mi250x GPU processor has a peak 32-bit floating point processing rate of $F_{P} = 47.9$ TFLOPS and a peak memory bandwidth of $F_{B}=3.2$ TB/s from global memory. Problems will be constrained by memory bandwidth up to an arithmetic intensity of \n",
    "\n",
    "$$a_{0}=\\frac{47.9}{3.2} \\approx 15$$\n",
    "\n",
    "for more information see the [Wikipedia Article on Roofline Models](https://en.wikipedia.org/wiki/Roofline_model).\n",
    "\n",
    "Usually the arithmetic intensity for processors is much larger than $\\frac{1}{b} $. Boosting the FB ratio for matrix multiplication through reducing $b$ is a way forward for getting better performance. Some thoughts on this are as follows:\n",
    "\n",
    "* We are not going to get anywhere near the rated peak performance of the compute device without employing some form of memory reuse.\n",
    "* Optimising memory transfers is where we should concentrate our efforts.\n",
    "    * Lowering the precision of data will increase the FB ratio.\n",
    "    * Find optimal block sizes that balance occupancy and workgroup size and the size of memory requests. \n",
    "    * Try to reuse information in lower level caches.\n",
    "    * Rearrange memory access patterns to access memory in a contiguous way.\n",
    "* We can likely get most of compute operations done during memory transfers.\n",
    "* We need good occupancy so the GPU can switch to another workgroup while waiting for memory.\n",
    "* Speedups over a CPU implementation are more likely to be limited to the difference in memory bandwidth speeds."
   ]
  },
  {
   "cell_type": "markdown",
   "id": "10c4895e-c2b2-4a63-942a-fe59f1ce93ab",
   "metadata": {},
   "source": [
    "### Testbench setup\n",
    "\n",
    "In this workbook we are going to try a number of strategies to optimise matrix multiplication. Performance of a kernel is a non-linear function of the block size, therefore for fairness on each strategy it is important to find the **global minimum** in runtime for the landscape of possible choices for block sizes.\n",
    "\n",
    "In <a href=\"../include/hip_helper.hpp\">hip_helper.hpp</a> is a function called **h_optimise_block** that takes in a set of N block size experiments in a file called **input_block.dat** (of size (N, 3) and type **uint32_t**), collects kernel timing statistics for each experiment, and writes the output to **output_block.dat** (of size (N,2) and type **double**) with dimension 1 containing the mean and standard deviation of kernel runtimes. There are a number of different implementations of matrix multiplication in this directory. Each has been set up to use **h_optimise_local** to read **input_block.dat** and write to **output_block.dat** . The file [benchmark.py](benchmark.py) constructs **input_block.dat** for each implementation, runs the experiment, and collects the timing results into a file called **benchmark.json**. \n",
    "\n",
    "The matrix sizes for **A**, **B**, and **C** for the test was $1024^2$, which might be different than is contained in the file [mat_size.hpp](mat_size.hpp) which governs the size at compile time. We have pre-collected timing results for each strategy using 1 GPU on Setonix, and the results are in the sub-directory [benchmarks/setonix.json](benchmarks/setonix.json).  The following code loads these benchmarks and constructs a validation test. "
   ]
  },
  {
   "cell_type": "code",
   "execution_count": null,
   "id": "dcced67c-c103-4ec3-b21e-e83a00f313de",
   "metadata": {
    "tags": []
   },
   "outputs": [],
   "source": [
    "import os\n",
    "import sys\n",
    "import numpy as np\n",
    "sys.path.insert(0, os.path.abspath(\"../include\"))\n",
    "import subprocess\n",
    "import json\n",
    "import py_helper\n",
    "\n",
    "%matplotlib widget\n",
    "\n",
    "defines=py_helper.load_defines(\"mat_size.hpp\")\n",
    "\n",
    "NCOLS_A = defines[\"NCOLS_A\"]\n",
    "NROWS_C = defines[\"NROWS_C\"]\n",
    "NCOLS_C = defines[\"NCOLS_C\"]\n",
    "\n",
    "# A is of size (NROWS_C, NCOLS_A)\n",
    "# B is of size (NCOLS_A, NCOLS_C)    \n",
    "# C is of size (NROWS_C, NCOLS_C)\n",
    "\n",
    "# Construct validation tests\n",
    "mat_mul_double=py_helper.MatMul(NCOLS_A, NROWS_C, NCOLS_C, np.float64)\n",
    "mat_mul_float=py_helper.MatMul(NCOLS_A, NROWS_C, NCOLS_C, np.float32)\n",
    "\n",
    "# Make up objects for timing results and local optimisation\n",
    "timings=py_helper.TimingResults()\n",
    "local_opt=py_helper.LocalOpt()\n",
    "\n",
    "# Load the Setonix benchmark\n",
    "benchmark=py_helper.load_benchmark(os.path.join(os.getcwd(), \"benchmarks\", \"setonix.json\"))\n",
    "#benchmark=py_helper.load_benchmark(os.path.join(os.getcwd(), \"benchmarks\", \"setonix_restrict.json\"))\n",
    "#benchmark=py_helper.load_benchmark(os.path.join(os.getcwd(), \"benchmarks\", \"laptop.json\"))\n",
    "#benchmark=py_helper.load_benchmark(os.path.join(os.getcwd(), \"benchmarks\", \"workstation.json\"))\n",
    "#benchmark=py_helper.load_benchmark(os.path.join(os.getcwd(), \"benchmark.json\"))\n",
    "\n",
    "gpu_id=0\n",
    "\n",
    "# Print the benchmarks\n",
    "print(\"Keys in benchmark\")\n",
    "for key in benchmark:\n",
    "    print(f\"\\\"{key}\\\"\")"
   ]
  },
  {
   "cell_type": "markdown",
   "id": "97421563-1dd4-4340-b76c-868b76a6fe5f",
   "metadata": {},
   "source": [
    "### Data precision\n",
    "\n",
    "In scientific computing the precision and range of 64-bit arithmetic can be important, for example in the solution of sensitive differential equations. Compute hardware is often optimised for 32-bit floats, and if your algorithm supports it you might gain a speedup by running at lower precision. In the example below we run a matrix multiplication problem at 64-bit and 32-bit precision to see how much of a difference it makes to kernel execution."
   ]
  },
  {
   "cell_type": "markdown",
   "id": "13d062a6-d449-4d8a-baae-cfb60c48a9e5",
   "metadata": {},
   "source": [
    "#### Matrix multiplication with 64-bit precision\n",
    "\n",
    "Let's validate matrix multiplication with the full 64-bit precision GPU implementation. The code for this is [mat_mult_double.cpp](mat_mult_double.cpp)."
   ]
  },
  {
   "cell_type": "code",
   "execution_count": null,
   "id": "9963f007-f8d0-42ad-bb65-48e901deb225",
   "metadata": {
    "tags": []
   },
   "outputs": [],
   "source": [
    "subprocess.run([\"./mat_mult_double.exe\"])\n",
    "mat_mul_double.load_data()\n",
    "mat_mul_double.check_data()"
   ]
  },
  {
   "cell_type": "markdown",
   "id": "040c0f68-19fd-4a40-943e-7ad480b2f6ff",
   "metadata": {},
   "source": [
    "At full precision we are getting the same results as Python, which natively does matrix operations in 64 bit."
   ]
  },
  {
   "cell_type": "markdown",
   "id": "15f847e6-e259-4baf-879b-ac87c74e500e",
   "metadata": {},
   "source": [
    "#### Matrix multiplication with 32-bit floats\n",
    "\n",
    "Now lets drop to a lower precision in [mat_mult_float.cpp](mat_mult_float.cpp). As this problem is memory bound, we expect single precision to be faster as there is less memory to transfer, and compute devices can often crunch 32-bit numbers much faster than 64-bit."
   ]
  },
  {
   "cell_type": "code",
   "execution_count": null,
   "id": "26152c7f-2eba-42ef-8ef8-2aa9a4fbfd82",
   "metadata": {
    "tags": []
   },
   "outputs": [],
   "source": [
    "subprocess.run([\"./mat_mult_float.exe\"])\n",
    "mat_mul_float.load_data()\n",
    "mat_mul_float.check_data()"
   ]
  },
  {
   "cell_type": "markdown",
   "id": "13a8f801-df8b-4276-9434-7e2bd6ccb642",
   "metadata": {},
   "source": [
    "The maximum error is around $10^{-5}-10^{-4}$ which is about a factor of $10^{-7}$ of the values in matrix C. Since $10^{-7}$ is about the smallest representable increment (from 1.0) that can be represented with 32-bit floats, we conclude that the calculation is still valid. Let's plot the timings."
   ]
  },
  {
   "cell_type": "code",
   "execution_count": null,
   "id": "c869b567-e8b1-4705-b835-e82bc03cc6cc",
   "metadata": {
    "tags": []
   },
   "outputs": [],
   "source": [
    "for label in [f'Double precision (GPU)[{gpu_id}]', \n",
    "              f'Single precision (GPU)[{gpu_id}]']:\n",
    "    timings.add_result(benchmark[label], label)\n",
    "\n",
    "timings.plot_results(\"Single precision\")"
   ]
  },
  {
   "cell_type": "markdown",
   "id": "15a0e45e-422c-4e96-b6e7-07745351729e",
   "metadata": {},
   "source": [
    "Timing results for the GPU show that moving to 32-bit has resulted in significantly faster kernel execution time. "
   ]
  },
  {
   "cell_type": "markdown",
   "id": "629f5162-b5ff-4f5f-b84e-2c5731be139d",
   "metadata": {},
   "source": [
    "#### Conclusions from precision\n",
    "\n",
    "Unless your algorithm **requires** high precision then using lower precision numbers can improve compute performance on most compute devices. This is because memory bandwidth requirements are lower, and the hardware may be more optimised for lower precision compute."
   ]
  },
  {
   "cell_type": "markdown",
   "id": "1d4e06d4-c6c2-413f-9c94-2ad68bdda37c",
   "metadata": {},
   "source": [
    "#### Using the restrict keyword\n",
    "\n",
    "When using pointers to reference memory objects it is possible that more than one pointer can reference the same memory location. This is called **pointer aliasing**. C and C++ codes have traditionally been at a slight performance disadvantage with respect to Fortran, because the compiler has had to allow for pointer aliasing and the memory safety allowances that must be made to account for it.\n",
    "\n",
    "The `__restrict__` keyword is a hint to the compiler that no other pointer is going to reference the same memory allocations. In the **mat_mult** kernel in [mat_mult_float_restrict.cpp](mat_mult_kernel_float_restrict.cpp) we use `__restrict__` keywords to annotate kernel memory.\n",
    "\n",
    "```C++\n",
    "// standard matrix multiply kernel \n",
    "__global__ void mat_mult (\n",
    "        float_type* __restrict__ A, \n",
    "        float_type* __restrict__ B, \n",
    "        float_type* __restrict__ C, \n",
    "        size_t N1_A, \n",
    "        size_t N0_C,\n",
    "        size_t N1_C) { \n",
    "            \n",
    "    // A is of size (N0_C, N1_A)\n",
    "    // B is of size (N1_A, N1_C)\n",
    "    // C is of size (N0_C, N1_C)   \n",
    "    \n",
    "    // i0 and i1 represent the coordinates in Matrix C \n",
    "    // We use row-major ordering for the matrices\n",
    "    \n",
    "    size_t i0 = blockIdx.y * blockDim.y + threadIdx.y;\n",
    "    size_t i1 = blockIdx.x * blockDim.x + threadIdx.x;\n",
    "    \n",
    "    // Scratch variable\n",
    "    float_type temp=0.0f; \n",
    "\n",
    "    // Guard mechanism to make sure we do not go\n",
    "    // outside the boundaries of matrix C \n",
    "    if ((i0<N0_C) && (i1<N1_C)) {\n",
    "        \n",
    "        // Loop over columns of A and rows of B\n",
    "        for (size_t n=0; n<N1_A; n++) {\n",
    "            \n",
    "            // A is of size (N0_C, N1_A)\n",
    "            // B is of size (N1_A, N1_C)\n",
    "            \n",
    "            // Loop across row i0 of A\n",
    "            // and down column i1 of B\n",
    "            temp+=A[i0*N1_A+n]*B[i1+n*N1_C]; \n",
    "        }\n",
    "        \n",
    "        // Set the value in C \n",
    "        C[i0*N1_C+i1]=temp;\n",
    "    }\n",
    "} \n",
    "```\n",
    "\n",
    "If we try this in the benchmark result we see that it doesn't make a big difference for matrix multiplication. It may yet make a difference for your code."
   ]
  },
  {
   "cell_type": "code",
   "execution_count": null,
   "id": "6a05c8e8-bbcb-449c-a5b5-efe139f63bbc",
   "metadata": {},
   "outputs": [],
   "source": [
    "for label in [ f'Single with restrict (GPU)[{gpu_id}]']:\n",
    "    timings.add_result(benchmark[label], label)\n",
    "\n",
    "timings.plot_results(\"Single\")"
   ]
  },
  {
   "cell_type": "markdown",
   "id": "897761c0-d02c-4187-ac9c-8c79f99e8e24",
   "metadata": {},
   "source": [
    "### Block size optimisation and coalesced memory access\n",
    "\n",
    "Performance is a complicated function that is dependent on the performance of the processor and how efficiently cache lines are being used. Block (workgroup) size is a way to **influence** how many thread teams participate in a block, and this has an effect on how compute devices access memory. \n",
    "\n",
    "Using the flag **plot=True**, we inspect the landscape of runtimes for single precision matrix multiplication in [mat_mult_float.cpp](mat_mult_float.cpp), as a function of block size along each axis. In the plot `blockDim.x` is mapped to dimension 1 of the matrices, and `blockDim.y` is mapped to dimension 0 of the matrices."
   ]
  },
  {
   "cell_type": "code",
   "execution_count": null,
   "id": "decc994a-19d3-4aa2-975b-2d6d500efaee",
   "metadata": {
    "tags": []
   },
   "outputs": [],
   "source": [
    "for label in [f'Single precision (GPU)[{gpu_id}]']:\n",
    "    timings.add_result(benchmark[label], label, plot=True)"
   ]
  },
  {
   "cell_type": "markdown",
   "id": "8c9759c8-b966-46c4-9c43-189235bd4d16",
   "metadata": {},
   "source": [
    "From the graph it seems that the best performing block size is one where there is an elongated number of threads in `blockDim.x`, which corresponds to dimension 1 of the matrices. If we overlay a cartoon of access to cache lines on the matrix multiplication we see that reasonably efficient cache usage is taking place along the rows of **A** because threads along row i0 have the potential to reuse parts of a cache line and the inner loop for the dot product uses adjacent memory locations. It may seem counterintuitive, but **even more efficient** cache usage is **taking place** for memory access along the columns of **B** because as we loop along the columns of **B**, cache lines are being **completely shared** by their neighbouring threads along dimension 1. \n",
    "\n",
    "<figure style=\"margin-left:auto; margin-right:auto; width:100%;\">\n",
    "    <img style=\"vertical-align:middle\" src=\"../images/coalesced_memory_access.svg\">\n",
    "    <figcaption style= \"text-align:lower; margin:1em; float:bottom; vertical-align:bottom;\">Cache line use in matrix multiplication.</figcaption>\n",
    "</figure>\n",
    "\n",
    "When looping over arrays in kernels it might seem counterintuitive to loop over dimensions a large stride, however it is important to realise that if a neighbouring thread is also doing it too then the cache line that they each require can be shared between them and coalesced access is possible."
   ]
  },
  {
   "cell_type": "markdown",
   "id": "94a6af99-0dcf-401f-b6a6-e989144111ff",
   "metadata": {},
   "source": [
    "### Constant memory\n",
    "\n",
    "We saw in the [Memory Management](../L6_Memory_Management/Memory.ipynb) module that **constant** memory is stored in a fast cache on the compute device. This storage space is small, on the order of a few tens to a few hundred kilobytes in size. Constant memory is read-only from the kernel, writable from the host, and is a good storage place for filter coefficients, such as is used for finite difference and convolution operations. We can't really use constant memory for matrix multiplication though."
   ]
  },
  {
   "cell_type": "markdown",
   "id": "05626921-7b04-4873-9b23-9ccbb3a3467c",
   "metadata": {},
   "source": [
    "### Rearranging memory for better access\n",
    "\n",
    "Sometimes there can be a performance benefit if we rearrange memory prior to kernel launch with the hope of leveraging more optimal memory access patterns during execution. We saw in the block size optimisation section that coalesced memory access to **B** appears be efficient, however we would like to know for sure if that memory access more or less optimal than that of A.\n",
    "\n",
    "#### Transpose B\n",
    "\n",
    "Transposing is swapping the rows and columns of a matrix, where row i0 of the matrix becomes column i0 and vice-versa. In [mat_mult_BT.cpp](mat_mult_BT.cpp) we first try transposing matrix **B** to make **BT**, so that memory access for each thread along the rows of **A** and **BT**.\n",
    "\n",
    "<figure style=\"margin-left:auto; margin-right:auto; width:100%;\">\n",
    "    <img style=\"vertical-align:middle\" src=\"../images/matrix_multiplication_transpose.svg\">\n",
    "    <figcaption style= \"text-align:lower; margin:1em; float:bottom; vertical-align:bottom;\">Transposed matrix multiplication.</figcaption>\n",
    "</figure>\n",
    "\n",
    "Let's see how the landscape of execution time looks."
   ]
  },
  {
   "cell_type": "code",
   "execution_count": null,
   "id": "f7a2ca77-ed66-4c40-872c-36c380152e40",
   "metadata": {
    "tags": []
   },
   "outputs": [],
   "source": [
    "for label in [f\"Transpose B (GPU)[{gpu_id}]\"]:\n",
    "    timings.add_result(benchmark[label], label, plot=True)"
   ]
  },
  {
   "cell_type": "markdown",
   "id": "ee4e5eb4-9a4d-400d-ad9e-3ff542d26800",
   "metadata": {},
   "source": [
    "For the GPU result there is a clearly defined global minimum at a block size of \n",
    "(blockDim.x, blockDim.y) = (8,128) or 1024 threads, which translates to (128,8) in the coordinate system of the matrices. Larger workgroup sizes such as 256 permit a large number of active thread teams, which is good for occupancy. Let's see how the timing results go."
   ]
  },
  {
   "cell_type": "code",
   "execution_count": null,
   "id": "90414584-8f07-4452-bd5c-42afd824d881",
   "metadata": {
    "tags": []
   },
   "outputs": [],
   "source": [
    "timings.plot_results(\"Transpose B\")"
   ]
  },
  {
   "cell_type": "markdown",
   "id": "6b8ee058-0b42-4332-ba3b-9e486259ef09",
   "metadata": {},
   "source": [
    "From the peformance results above, transposing B has had a **detrimental** effect on the GPU. This is because coalesced memory access (where neighbouring work items shared memory in a cache line) is not occuring as efficiently, if at all."
   ]
  },
  {
   "cell_type": "markdown",
   "id": "f144a9a3-1691-47f3-ba33-1b56c41593f4",
   "metadata": {},
   "source": [
    "#### Transposing A\n",
    "\n",
    "Let's try transposing A instead in the code [mat_mult_AT.cpp](mat_mult_AT.cpp). Then we hope to get better performance on the GPU through leveraging coalesced access."
   ]
  },
  {
   "cell_type": "code",
   "execution_count": null,
   "id": "c949d859-d0c1-442d-b254-37ac69b952f7",
   "metadata": {},
   "outputs": [],
   "source": [
    "for label in [f\"Transpose A (GPU)[{gpu_id}]\"]:\n",
    "    timings.add_result(benchmark[label], label, plot=True)"
   ]
  },
  {
   "cell_type": "markdown",
   "id": "48b0e176-fb3d-4ab6-a0af-f08f662f7228",
   "metadata": {},
   "source": [
    "The landscape of timing results show that coalesced memory access occurs far more easily when **A** is transposed, with no clear minimum at large block sizes. Let's see how the timing results go."
   ]
  },
  {
   "cell_type": "code",
   "execution_count": null,
   "id": "d8978022-6b60-4b5b-b828-d6849aad3ddd",
   "metadata": {
    "tags": []
   },
   "outputs": [],
   "source": [
    "timings.plot_results(\"Transpose A\")"
   ]
  },
  {
   "cell_type": "markdown",
   "id": "8358ba03-3bb7-4f6e-8c43-567085eca7c7",
   "metadata": {},
   "source": [
    "Interestingly, the timing results from transposing A show that it is not as performant as best performing algorithm thus far (\"Single precision\"). This implies a limit to the amount of useful coalesced access that can take place."
   ]
  },
  {
   "cell_type": "markdown",
   "id": "fab6f0ee-74a5-4535-854e-69fd86b736e9",
   "metadata": {},
   "source": [
    "### Shared memory\n",
    "\n",
    "On GPU's shared memory uses local cache (called the local data store on AMD architectures), with a much lower latency than fetches from global memory. In the <a href=\"../L6_Memory_Management/Memory.ipynp\">Memory Management Lesson</a> we implemented matrix multiplication implementation that **naively** copies all of the needed rows of A for block into shared memory. The source for that is in [mat_mult_shared_A.cpp](mat_mult_shared_A.cpp). "
   ]
  },
  {
   "cell_type": "markdown",
   "id": "64dc743e-8a34-4be1-815b-12506622ac30",
   "metadata": {},
   "source": [
    "<figure style=\"margin-left:auto; margin-right:auto; width:100%;\">\n",
    "    <img style=\"vertical-align:middle\" src=\"../images/matrix_multiplication_shared_A.svg\">\n",
    "    <figcaption style= \"text-align:lower; margin:1em; float:bottom; vertical-align:bottom;\">Using shared memory in matrix multiplication.</figcaption>\n",
    "</figure>\n",
    "\n",
    "We try two different scenarios where we use shared memory to store entire rows of A [(mat_mult_shared_A.cpp)](mat_mult_shared_A.cpp), or entire columns of B [(mat_mult_shared_B.cpp)](mat_mult_shared_B.cpp) for a block. Here is the kernel for the scenario where we cache rows of A into shared memory.\n",
    "\n",
    "```C++\n",
    "// Matrix multiply kernel that uses shared memory for A\n",
    "__global__ void mat_mult_tile_shared_A (\n",
    "                        float_type* A_star, \n",
    "                        float_type* B_star, \n",
    "                        float_type* C,\n",
    "                        size_t chunk_len,\n",
    "                        size_t nchunks, \n",
    "                        size_t N0_C,\n",
    "                        size_t N1_C) { \n",
    "    \n",
    "    // Access the allocation of shared memory\n",
    "    extern __shared__ char shared[];\n",
    "    \n",
    "    // N1_A_star >= N1_A\n",
    "    // A_star is of size (N0_C, N1_A_star)\n",
    "    // B_star is of size (N1_A_star, N1_C)\n",
    "    // C is of size (N0_C, N1_C)\n",
    "    \n",
    "    // i0 and i1 represent the coordinates in Matrix C \n",
    "    // We assume row-major ordering for the matrices \n",
    "    size_t i0 = blockIdx.y * blockDim.y + threadIdx.y;\n",
    "    size_t i1 = blockIdx.x * blockDim.x + threadIdx.x;\n",
    "    \n",
    "    // Location within the block\n",
    "    size_t s0=threadIdx.y;\n",
    "    size_t s1=threadIdx.x;\n",
    "    \n",
    "    // block size\n",
    "    //size_t L0=blockDim.y;\n",
    "    size_t L1=blockDim.x;\n",
    "\n",
    "    // Get a pointer to shared_A from shared\n",
    "    // shared_A is of size (L0, chunk_len)\n",
    "    // shared_B is of size (L1, chunk_len)\n",
    "    float_type* shared_A_star = (float_type*)&shared[0];\n",
    "    \n",
    "    // Positions within shared memory\n",
    "    float_type* shared_A_star_s0 = &shared_A_star[s0*chunk_len];\n",
    "    \n",
    "    // Scratch variable\n",
    "    float_type temp=0.0f;\n",
    "    \n",
    "    // Start and end positions to copy within a chunk\n",
    "    size_t start1, end1;\n",
    "    get_start_end(L1, chunk_len, s1, &start1, &end1);\n",
    "    \n",
    "    // Make sure we don't go beyond the bounds of the array\n",
    "    if ((i0<N0_C) && (i1<N1_C)) {\n",
    "    \n",
    "        // Loop over the chunks\n",
    "        for (int chunk_id=0; chunk_id<nchunks; chunk_id++) {\n",
    "    \n",
    "            // Fill shared_A_star and shared_B_star \n",
    "            // Starting positions for the copy\n",
    "            float_type* A_star_i0 = &A_star[i0*chunk_len*nchunks+chunk_id*chunk_len];\n",
    "            float_type* B_star_i1 = &B_star[chunk_id*chunk_len*N1_C+i1];\n",
    "        \n",
    "            // Fill the rows of shared_A_star and shared_B_star\n",
    "            // Copy from row i0 of A_star\n",
    "            for (size_t n = start1; n<end1; n++) {\n",
    "                shared_A_star_s0[n] = A_star_i0[n];\n",
    "            }\n",
    "        \n",
    "            // Synchronise threads to ensure shared memory is filled\n",
    "            __syncthreads();\n",
    "        \n",
    "            // Loop over shared memory to compute dot product \n",
    "            // component for the chunk\n",
    "            for (size_t n=0; n<chunk_len; n++) {\n",
    "                \n",
    "                // Perform the dot product using shared memory\n",
    "                temp+=shared_A_star_s0[n]*B_star_i1[n*N1_C];\n",
    "            }\n",
    "        \n",
    "            // Synchronise threads so they are\n",
    "            // are ready to tackle the next tile together\n",
    "            __syncthreads();\n",
    "        }\n",
    "    \n",
    "        // Put the accumulated value into position\n",
    "        C[i0*N1_C+i1]=temp;    \n",
    "    }\n",
    "}\n",
    "```"
   ]
  },
  {
   "cell_type": "markdown",
   "id": "4100b973-84f0-4398-96f0-06d3358243b6",
   "metadata": {},
   "source": [
    "#### Shared memory and bank conflicts\n",
    "\n",
    "Shared memory is constructed in hardware like a 2D row-major array and each column is called a bank. \n",
    "On NVIDIA compute architectures (5.0-9.0) there are 32 banks (columns), and each entry in the array at position (row_id, bank_id) can store either 32 or 64 bits (this can be adjusted at runtime in the program). There are as many rows as the device supports. \n",
    "\n",
    "On the AMD CDNA2 architecture for the MI250x there are also 32 banks (columns). Each entry in the array at position (row_id, bank_id) can store 32 bits, and there are 512 rows for a total of 65536 bytes available in shared memory.\n",
    "\n",
    "A bank conflict arises when two threads in a block try to access the same bank (column) at the same time. The entry in the bank may either be broadcasted (if its at the same location) or serialised at the expense of performance. This is not so much a problem on modern architectures as they have sophisticated ways of dealing with bank conflicts, but one way to avoid a bank conflict is to have neighbouring threads access neighbouring (32-bit) elements in shared memory. Our naive approach certainly does this and we don't need to be concerened with bank conflicts for our shared memory algorithm.\n",
    "\n",
    "Let's see how the timing landscape of these strategies compare!"
   ]
  },
  {
   "cell_type": "code",
   "execution_count": null,
   "id": "6adc52f1-ae98-4b11-b38a-807f3a6b4c1c",
   "metadata": {},
   "outputs": [],
   "source": [
    "for label in [f\"Shared A (GPU)[{gpu_id}]\",f\"Shared B (GPU)[{gpu_id}]\"]:\n",
    "    timings.add_result(benchmark[label], label, plot=True)"
   ]
  },
  {
   "cell_type": "markdown",
   "id": "62e17567-9660-45b7-9919-310340100a6e",
   "metadata": {},
   "source": [
    "As you can see, the landscape of valid experiments is severely curtailed by the **size** of shared memory for a block. If too many rows or columns are stored in shared memory then the calculation fails. These naive approaches are guaranteed to fail for extremely large matrix sizes. Now we show the timing results."
   ]
  },
  {
   "cell_type": "code",
   "execution_count": null,
   "id": "eb508a8f-f73d-41de-aaf5-5f410ab3ef23",
   "metadata": {},
   "outputs": [],
   "source": [
    "timings.plot_results(\"Shared\")"
   ]
  },
  {
   "cell_type": "markdown",
   "id": "73392fe9-b869-4862-a51f-eecdbbc52555",
   "metadata": {},
   "source": [
    "From the timing results, the scenario where rows of A are stored in shared memory has produced the most performant implementation thus far. However we need a solution that reduces the amount of shared memory used."
   ]
  },
  {
   "cell_type": "markdown",
   "id": "6b4155c5-ed7d-4010-a484-af3293d8deb2",
   "metadata": {
    "tags": []
   },
   "source": [
    "### Tiled memory access\n",
    "\n",
    "In order to use shared memory effectively for large arrays we need to reduce shared memory usage. One strategy is to divide up the N1_A axis (dimension 1 of **A**, and dimension 0 of **B**) into tiles of size **chunk_len** and iterate over them to accumulate the dot product. This keeps shared memory size small because only enough shared memory for one tile needs to be stored for reuse over all tiles. Then we have the option of reading tiles into shared memory from either **A**, **B** or both. A fixed tile length is also good for performance because we can make it a multiple of elements in a cache line, and enlarge N1_A (pad A and B with zeros) to make sure there is always an integer number of tiles along the N1_A axis. \n",
    "\n",
    "Each thread in a block iterates over all the tiles and accumulates the result of the dot product. If the block size is **(blockDim.x, blockDim.y)=(L1, L0)** then the allocations of shared memory memory for **A** and **B** are defined to be of size **(blockDim.y, chunk_len)** and **(blockDim.x, chunk_len)** respectively. Each completed tile (along row **i0** of **A** and row **i1** of **B** represents a partial dot product along the N1_A axis, and the accumulated dot product is placed into **C** at position (i0, i1).\n",
    "\n",
    "<figure style=\"margin-left:auto; margin-right:auto; width:100%;\">\n",
    "    <img style=\"vertical-align:middle\" src=\"../images/matrix_multiplication_tile.svg\">\n",
    "    <figcaption style= \"text-align:lower; margin:1em; float:bottom; vertical-align:bottom;\">Matrix multiplication with chunked domain decomposition.</figcaption>\n",
    "</figure>\n",
    "\n",
    "Here is the source code for the tiled kernel in [mat_mult_tile_shared_AB.cpp](mat_mult_tile_shared_AB.cpp). Shared memory is reused for each chunk/tile. Notice that we also have to place a second `__syncthreads()` call after each tile is completed to make sure that all threads in a block are in sync before moving to the next tile.\n",
    "\n",
    "```C++\n",
    "\n",
    "// Source code in mat_mult_tile_shared_AB.cpp\n",
    "\n",
    "// Matrix multiply kernel that uses shared memory for A\n",
    "__global__ void mat_mult_tile_shared_AB (\n",
    "                        float_type* A_star, \n",
    "                        float_type* B_star, \n",
    "                        float_type* C,\n",
    "                        size_t chunk_len,\n",
    "                        size_t nchunks, \n",
    "                        size_t N0_C,\n",
    "                        size_t N1_C) { \n",
    "    \n",
    "    // Access the allocation of shared memory\n",
    "    extern __shared__ char shared[];\n",
    "    \n",
    "    // N1_A_star >= N1_A\n",
    "    // A_star is of size (N0_C, N1_A_star)\n",
    "    // B_star is of size (N1_A_star, N1_C)\n",
    "    // C is of size (N0_C, N1_C)\n",
    "    \n",
    "    // i0 and i1 represent the coordinates in Matrix C \n",
    "    // We assume row-major ordering for the matrices \n",
    "    size_t i0 = blockIdx.y * blockDim.y + threadIdx.y;\n",
    "    size_t i1 = blockIdx.x * blockDim.x + threadIdx.x;\n",
    "    \n",
    "    // Location within the block\n",
    "    size_t s0=threadIdx.y;\n",
    "    size_t s1=threadIdx.x;\n",
    "    \n",
    "    // block size\n",
    "    size_t L0=blockDim.y;\n",
    "    size_t L1=blockDim.x;\n",
    "\n",
    "    // Get a pointer to shared_A from shared\n",
    "    // shared_A is of size (L0, chunk_len)\n",
    "    // shared_B is of size (L1, chunk_len)\n",
    "    float_type* shared_A_star = (float_type*)&shared[0];\n",
    "    float_type* shared_B_star = (float_type*)&shared[L0*chunk_len*sizeof(float_type)];\n",
    "    \n",
    "    // Positions within shared memory\n",
    "    float_type* shared_A_star_s0 = &shared_A_star[s0*chunk_len];\n",
    "    float_type* shared_B_star_s1 = &shared_B_star[s1*chunk_len];\n",
    "    \n",
    "    // Scratch variable\n",
    "    float_type temp=0.0f;\n",
    "    \n",
    "    // Start and end positions to copy within a chunk\n",
    "    size_t start0, end0, start1, end1;\n",
    "    get_start_end(L1, chunk_len, s1, &start1, &end1);\n",
    "    get_start_end(L0, chunk_len, s0, &start0, &end0);\n",
    "    \n",
    "    // Make sure we don't go beyond the bounds of the array\n",
    "    if ((i0<N0_C) && (i1<N1_C)) {\n",
    "    \n",
    "        // Loop over the chunks\n",
    "        for (int chunk_id=0; chunk_id<nchunks; chunk_id++) {\n",
    "    \n",
    "            // Fill shared_A_star and shared_B_star \n",
    "            // Starting positions for the copy\n",
    "            float_type* A_star_i0 = &A_star[i0*chunk_len*nchunks+chunk_id*chunk_len];\n",
    "            float_type* B_star_i1 = &B_star[chunk_id*chunk_len*N1_C+i1];\n",
    "        \n",
    "            // Fill the rows of shared_A_star and shared_B_star\n",
    "            // Copy from row i0 of A_star\n",
    "            for (size_t n = start1; n<end1; n++) {\n",
    "                shared_A_star_s0[n] = A_star_i0[n];\n",
    "            }\n",
    "        \n",
    "            // Copy from column i1 of B_star   \n",
    "            for (size_t n = start0; n<end0; n++) {\n",
    "                shared_B_star_s1[n] = B_star_i1[n*N1_C];\n",
    "            }\n",
    "        \n",
    "            // Synchronise threads to ensure shared memory is filled\n",
    "            __syncthreads();\n",
    "        \n",
    "            // Loop over shared memory to compute dot product \n",
    "            // component for the chunk\n",
    "            for (size_t n=0; n<chunk_len; n++) {\n",
    "                \n",
    "                // Perform the dot product using shared memory\n",
    "                temp+=shared_A_star_s0[n]*shared_B_star_s1[n];\n",
    "            }\n",
    "        \n",
    "            // Synchronise threads so they are\n",
    "            // are ready to tackle the next tile together\n",
    "            __syncthreads();\n",
    "        }\n",
    "    \n",
    "        // Put the accumulated value into position\n",
    "        C[i0*N1_C+i1]=temp;\n",
    "    }\n",
    "}\n",
    "```\n"
   ]
  },
  {
   "cell_type": "markdown",
   "id": "8ce8658e-5ab8-404f-982b-10528f86b2e0",
   "metadata": {},
   "source": [
    "eLet's see how the performance goes with caching the tiles for A, B and then both A and B in shared memory."
   ]
  },
  {
   "cell_type": "code",
   "execution_count": null,
   "id": "95aed0a1-58f3-4f28-a962-56e88f5d9b40",
   "metadata": {},
   "outputs": [],
   "source": [
    "for label in [f\"Tile shared AB (GPU)[{gpu_id}]\",\n",
    "              f\"Tile shared A (GPU)[{gpu_id}]\",\n",
    "              f\"Tile shared B (GPU)[{gpu_id}]\"]:\n",
    "    timings.add_result(benchmark[label], label)"
   ]
  },
  {
   "cell_type": "code",
   "execution_count": null,
   "id": "39398e2f-39c3-4c5f-b4d8-70b0102fa8f4",
   "metadata": {},
   "outputs": [],
   "source": [
    "timings.plot_results(\"Tile shared\")"
   ]
  },
  {
   "cell_type": "markdown",
   "id": "aa44a046-d31c-4657-baba-b44180a76ab6",
   "metadata": {},
   "source": [
    "On the GPU the tiled approach yields almost the same performance as caching the entire row in shared memory. Since memory access to B is coalesced there doesn't appear to be any need to cache the columns of B in shared memory. Because we are using a fixed chunk length we are now in a good place to consider using vector math."
   ]
  },
  {
   "cell_type": "markdown",
   "id": "b0fc2e30-b0a3-4cb3-926c-0282f56bed3d",
   "metadata": {},
   "source": [
    "### Vectors\n",
    "\n",
    "The GPU compute units from vendors such as Intel and AMD can utilise vector instructions. Therefore using vectors to work with data in HIP *might* result in a performance boost. To my knowledge vector instructions are not supported in CUDA, though there might still be a benefit from cache performance increases because vector transfers in memory can be optimised.\n",
    "\n",
    "Both HIP and CUDA have support for vectors up to four elements long. This is in contrast to OpenCL, which  has support for vectors up to 16 elements wide. Here we show the kernel code from [mat_mult_tile_local_A_vector.cpp](mat_mult_tile_local_A_vector.cpp) that stores a tile from A into local memory then uses **float4** vectors to perform the partial dot products. We need to sum over the accumulated vector **temp** at the end in order to put the result into **C**.\n",
    "\n",
    "```C++\n",
    "// Matrix multiply kernel that uses shared memory for A\n",
    "__global__ void mat_mult_tile_shared_A_vector (\n",
    "                        float_type* A_star, \n",
    "                        float_type* B_star, \n",
    "                        float_type* C,\n",
    "                        // number of elements in a chunk\n",
    "                        size_t chunk_len,\n",
    "                        // number of chunks in total\n",
    "                        size_t nchunks, \n",
    "                        // length of a vector\n",
    "                        size_t vector_len,\n",
    "                        // number of vectors in a chunk\n",
    "                        size_t nvectors,\n",
    "                        // dimension 0 extent of C\n",
    "                        size_t N0_C,\n",
    "                        // dimension 1 extent of C\n",
    "                        size_t N1_C) { \n",
    "    \n",
    "    // Access the allocation of shared memory\n",
    "    extern __shared__ char shared[];\n",
    "    \n",
    "    // N1_A_star >= N1_A\n",
    "    // N1_A_star = nchunks * chunk_len\n",
    "    // A_star is of size (N0_C, N1_A_star)\n",
    "    // B_star is of size (N1_A_star, N1_C)\n",
    "    // C is of size (N0_C, N1_C)\n",
    "    \n",
    "    // i0 and i1 represent the coordinates in Matrix C \n",
    "    // We assume row-major ordering for the matrices \n",
    "    size_t i0 = blockIdx.y * blockDim.y + threadIdx.y;\n",
    "    size_t i1 = blockIdx.x * blockDim.x + threadIdx.x;\n",
    "    \n",
    "    // Location within the block\n",
    "    size_t s0=threadIdx.y;\n",
    "    size_t s1=threadIdx.x;\n",
    "    \n",
    "    // block size\n",
    "    //size_t L0=blockDim.y;\n",
    "    size_t L1=blockDim.x;\n",
    "\n",
    "    // Get a pointer to shared_A from shared\n",
    "    // shared_A is of size (L0, chunk_len)\n",
    "    float_type* shared_A = (float_type*)&shared[0];\n",
    "\n",
    "    // Line of shared memory that we are working with\n",
    "    float_type* shared_A_star_s0 = &shared_A[s0*chunk_len];\n",
    "    \n",
    "    // Shared memory interpreted as a vector\n",
    "    float_vector_type* shared_A_star_v0 = (float_vector_type*)shared_A_star_s0;\n",
    "    \n",
    "    // Scratch variables\n",
    "    float_vector_type temp = (float_vector_type){0.0f};\n",
    "    float_vector_type scratch = (float_vector_type){0.0f};\n",
    "    \n",
    "    // Start and end positions to copy within a chunk\n",
    "    size_t start1, end1;\n",
    "    get_start_end(L1, chunk_len, s1, &start1, &end1);\n",
    "    \n",
    "    // Make sure we don't go beyond the bounds of the array\n",
    "    if ((i0<N0_C) && (i1<N1_C)) {    \n",
    "    \n",
    "        // Loop over the chunks\n",
    "        for (int chunk_id=0; chunk_id<nchunks; chunk_id++) {\n",
    "    \n",
    "            // Fill shared_A_star and shared_B_star \n",
    "            // Starting positions for the copy\n",
    "            float_type* A_star_i0 = &A_star[i0*chunk_len*nchunks+chunk_id*chunk_len];\n",
    "            float_type* B_star_i1 = &B_star[chunk_id*chunk_len*N1_C+i1];\n",
    "        \n",
    "            // Fill the rows of shared_A_star and shared_B_star\n",
    "            // Copy from row i0 of A_star\n",
    "            for (size_t n = start1; n<end1; n++) {\n",
    "                shared_A_star_s0[n] = A_star_i0[n];\n",
    "            }\n",
    "        \n",
    "            // Synchronise threads to ensure shared memory is filled\n",
    "            __syncthreads();\n",
    "        \n",
    "            // Loop over shared memory to compute dot product \n",
    "            // component for the chunk\n",
    "            for (size_t n=0; n<nvectors; n++) {\n",
    "            \n",
    "                // Fill scratch from B_star_i1\n",
    "                scratch.x = B_star_i1[(n*vector_len+0)*N1_C];\n",
    "                scratch.y = B_star_i1[(n*vector_len+1)*N1_C];\n",
    "                scratch.z = B_star_i1[(n*vector_len+2)*N1_C];\n",
    "                scratch.w = B_star_i1[(n*vector_len+3)*N1_C];\n",
    "            \n",
    "                // Perform the dot product using shared memory          \n",
    "#ifdef __HIP_PLATFORM_NVIDIA__\n",
    "                temp.x += shared_A_star_v0[n].x*scratch.x;\n",
    "                temp.y += shared_A_star_v0[n].y*scratch.y;\n",
    "                temp.z += shared_A_star_v0[n].z*scratch.z;\n",
    "                temp.w += shared_A_star_v0[n].w*scratch.w;\n",
    "#else\n",
    "                temp+=shared_A_star_v0[n]*scratch;\n",
    "#endif\n",
    "            }\n",
    "        \n",
    "            // Synchronise threads so they are\n",
    "            // are ready to tackle the next tile together\n",
    "            __syncthreads();\n",
    "        }\n",
    "    \n",
    "        // Put the accumulated value into position\n",
    "        C[i0*N1_C+i1]=temp.x+temp.y+temp.z+temp.w;\n",
    "    }\n",
    "}\n",
    "```\n",
    "\n",
    "Notice that we were able to perform a multiply operation on **float4** types with the AMD backend. When using a CUDA backend math operations on **float4** vectors is not supported, and we had to use CUDA-specific code to perform the vector math operations by component!\n",
    "\n",
    "Let's see how the tiled approach goes with vector instructions!"
   ]
  },
  {
   "cell_type": "code",
   "execution_count": null,
   "id": "d320d436-2cee-4774-9f25-55b9effd2232",
   "metadata": {},
   "outputs": [],
   "source": [
    "for label in [f\"Tile shared A vector (GPU)[{gpu_id}]\",\n",
    "              f\"Tile shared B vector (GPU)[{gpu_id}]\",\n",
    "              f\"Tile shared AB vector (GPU)[{gpu_id}]\"]:\n",
    "    timings.add_result(benchmark[label], label)\n",
    "\n",
    "timings.plot_results(\"Tile shared\")"
   ]
  },
  {
   "cell_type": "markdown",
   "id": "b298cde7-cc1f-4521-a9a9-d8018462a833",
   "metadata": {},
   "source": [
    "The tiled approach, in conjunction with shared memory and vector math on the Mi250X has made a **significant impact** on performance, with a 4.3x gain over the benchmark double precision result. "
   ]
  },
  {
   "cell_type": "markdown",
   "id": "b8d230e5-720c-4c24-b59b-d8888d0e4b0f",
   "metadata": {
    "tags": []
   },
   "source": [
    "### Use a pre-existing implementation\n",
    "\n",
    "If your problem can be reduced to a math operation that is solved by a pre-existing implementation, then that is a way to get excellent performance. Pre-existing solvers have been worked over by experts and it is in the vendor's best interest to produce a solver that is as fast as possible.\n",
    "\n",
    "The library [hipBLAS](https://github.com/ROCmSoftwarePlatform/hipBLAS) provides linear algebra solvers and can utilise either [rocBLAS](https://github.com/ROCmSoftwarePlatform/rocBLAS) with AMD backends, or [cuBLAS](https://developer.nvidia.com/cublas) with NVIDIA backends. The version of hipBLAS that is installed with ROCm uses the AMD backend by default, however you can download and compile the library to use a cuBLAS backend on NVIDIA hardware.\n",
    "\n",
    "In hipBLAS, the **hipblasSgemm** function solves the generalised matrix multiplication on single precision data.\n",
    "\n",
    "$$\n",
    "\\alpha \\textbf{A} \\cdot \\textbf{B} + \\beta \\textbf{C} = \\textbf{C}\n",
    "$$\n",
    "\n",
    "If we set $\\alpha=1.0$ and $\\beta=0.0$ then we have the equivalent matrix multiplication that we are using here. The code [mat_mult_float_hipblas.cpp](mat_mult_float_hipblas.cpp) demonstrates the use of **hipblasSgemm**. We first include the following header in the program.\n",
    "\n",
    "```C++\n",
    "// Bring in the hipblas header files\n",
    "#include <hipblas/hipblas.h>\n",
    "```\n",
    "\n",
    "After acquiring compute devices, we initialise hipblas as follows:\n",
    "\n",
    "```C++\n",
    "    // Initialize hipblas\n",
    "    hipblasHandle_t hb_handle;\n",
    "    hipblasStatus_t hb_status = hipblasCreate(&hb_handle);\n",
    "    if (hb_status != HIPBLAS_STATUS_SUCCESS) {\n",
    "        std::printf(\"Failed to initialise hipBlas\\n\");\n",
    "         exit(EXIT_FAILURE); \n",
    "    }\n",
    "```\n",
    "\n",
    "The call to **hipblasSgemm** uses column-major arrays. A row-major matrix is equivalent to a column-major matrix that is transposed. So we can use the following identity:\n",
    "\n",
    "$$\n",
    "(AB)^T = B^T A^T = C^T\n",
    "$$\n",
    "\n",
    "Then \n",
    "\n",
    "$$\n",
    "B^{T}_{\\mbox{col-major}} A^{T}_{\\mbox{col-major}} = C^{T}_{\\mbox{col-major}}\n",
    "$$\n",
    "\n",
    "is equivalent to\n",
    "\n",
    "$$\n",
    "B_{\\mbox{row-major}} A_{\\mbox{row-major}} = C_{\\mbox{row-major}}\n",
    "$$\n",
    "\n",
    "Therefore, in order to use row major matrices for this function call we just need to swap inputs for **A** and **B** and adjust the input sizes.\n",
    "\n",
    "```C\n",
    "        hb_status = hipblasSgemm(\n",
    "                hb_handle, // hipblas handle  \n",
    "                HIPBLAS_OP_N, // what operation to apply to A (none)\n",
    "                HIPBLAS_OP_N, // what operation to apply to B (none)\n",
    "                (int)N1_C, // number of rows in C_{col_major} -> number of columns in C_{row_major}\n",
    "                (int)N0_C, // number of columns in C_{col_major} -> number of rows in C_{row_major}\n",
    "                (int)N1_A, // number of columns in A_{col_major} -> number of rows in B_{row_major}\n",
    "                &alpha, // Constant\n",
    "                B_d, // Normally A_{col_major} -> B^{T}_{col_major} -> B_{row_major}\n",
    "                (int)N1_C, // Leading dimension for B_{row_major} \n",
    "                A_d, // Normally B_{col_major} -> A^{T}_{col_major} -> A_{row_major}\n",
    "                (int)N1_A, // Leading dimension for A_{row_major}\n",
    "                &beta, // Constant\n",
    "                C_d, // Pointer to memory for C_{row_major}\n",
    "                (int)N1_C // Leading dimension for C_{row_major}\n",
    "        );\n",
    "    \n",
    "        if (hb_status != HIPBLAS_STATUS_SUCCESS) {\n",
    "            std::printf(\"Failed to run hipBlas function.\\n\");\n",
    "             exit(EXIT_FAILURE); \n",
    "        }\n",
    "```"
   ]
  },
  {
   "cell_type": "markdown",
   "id": "9ebc3bcb-e2ec-40f4-b437-d9eed146669d",
   "metadata": {},
   "source": [
    "Now let's see how the timing for this went!"
   ]
  },
  {
   "cell_type": "code",
   "execution_count": null,
   "id": "9b4320c1-be78-447a-aefc-24014712badd",
   "metadata": {},
   "outputs": [],
   "source": [
    "for label in [f\"HIPBlas (GPU)[{gpu_id}]\"]:\n",
    "    timings.add_result(benchmark[label], label)\n",
    "timings.plot_results(\"HIPBlas\", sort=True)"
   ]
  },
  {
   "cell_type": "markdown",
   "id": "dbdb777d-d580-408e-a15f-c1e11cbafd59",
   "metadata": {},
   "source": [
    "The optimised hipBLAS function has resulted in a speedup that is about 33x the double precision result. Canned solvers have been worked over by experts and usually get the best (or close to the best!) out of your compute hardware. It should be the first choice if your compute problem can handle it!"
   ]
  },
  {
   "cell_type": "markdown",
   "id": "7d947ee4-5c91-4129-80bb-fa695976f31f",
   "metadata": {},
   "source": [
    "### Multiple compute devices\n",
    "\n",
    "If your problem is parallelisable then you can divide the work and run it over the available compute devices. HIPBlas is clearly the best performing implementation, however the **hipblasSgemm** function doesn't appear to be able to support the execution of portions of a matrix. We can however divide the matrix up into slabs and farm out the execution of each slab to one of the available GPU's. In the figure below is a cartoon of how the matrix of size (1024,1024) is divided into slabs of size (128, N1_C). \n",
    "\n",
    "<figure style=\"margin-left:auto; margin-right:auto; width:80%;\">\n",
    "    <img style=\"vertical-align:middle\" src=\"../images/domain_decomposition.svg\">\n",
    "    <figcaption style= \"text-align:lower; margin:1em; float:bottom; vertical-align:bottom;\">Parallelism achived by dividing the domain of matrix C. Every available compute device is responsible for at least one domain.</figcaption>\n",
    "</figure>\n",
    "\n",
    "In the code [mat_mult_float_md_hipblas.cpp](mat_mult_float_md_hipblas.cpp) we use OpenMP with dynamic scheduling to farm out the execution of each slab to one of the available compute devices. The host array **C_h** uses pinned memory with a portable mapping so that it is available to every compute device. The resulting output slab is copied back to its place in the host array. Let's see if this makes a difference to performance."
   ]
  },
  {
   "cell_type": "code",
   "execution_count": null,
   "id": "cff5d0f6-9271-4ee8-8c49-4d27a84a0391",
   "metadata": {},
   "outputs": [],
   "source": [
    "for label in [f\"HIPBlas MD (GPU)[{gpu_id}]\"]:\n",
    "    timings.add_result(benchmark[label], label)\n",
    "timings.plot_results(\"HIPBlas MD (GPU)\")"
   ]
  },
  {
   "cell_type": "markdown",
   "id": "8e9950b3-dcfe-4fef-85d9-e39588a65609",
   "metadata": {},
   "source": [
    "For this matrix size it appears that the OpenMP overheads are greater than the benefit obtained by computing a smaller section of the array on different compute devices. Therefore for this problem size the multi-gpu approach is detrimental to performance. For extremely large matrix sizes there still may be a benefit however."
   ]
  },
  {
   "cell_type": "markdown",
   "id": "93228da3-dceb-4365-985e-d09d38c37b49",
   "metadata": {},
   "source": [
    "### Summary\n",
    "\n",
    "Let's plot the timing results again, this time we order by ascending speedup. This is for Setonix."
   ]
  },
  {
   "cell_type": "code",
   "execution_count": null,
   "id": "c23dbc0c-28d3-46a9-9357-60c7a00f2140",
   "metadata": {},
   "outputs": [],
   "source": [
    "for label in [f\"HIPBlas MD (GPU)[{gpu_id}]\"]:\n",
    "    timings.add_result(benchmark[label], label)\n",
    "timings.plot_results(\"HIPBlas\", sort=True)"
   ]
  },
  {
   "cell_type": "markdown",
   "id": "c348cb97-7d6a-4b87-9ec4-7fb1caaa9cdc",
   "metadata": {},
   "source": [
    "On another computer these performance figures may be different, here are the results on my laptop. Note these numbers are relative to the double precision CPU implementation on Setonix.\n",
    "\n",
    "* GPU 0 - NVIDIA RTX 3060 - 13 TFLOP/s peak"
   ]
  },
  {
   "cell_type": "code",
   "execution_count": null,
   "id": "61750f35-ec65-4ec1-95cc-7faf18156e31",
   "metadata": {},
   "outputs": [],
   "source": [
    "# Benchmark for the laptop\n",
    "timings_laptop=py_helper.TimingResults()\n",
    "benchmark_laptop=py_helper.load_benchmark(os.path.join(os.getcwd(), \"benchmarks\", \"laptop.json\"))\n",
    "timings_laptop.add_result(benchmark['HIPBlas (GPU)[0]'], \"Setonix HIPBlas (GPU)\")\n",
    "for label in benchmark_laptop:\n",
    "    timings_laptop.add_result(benchmark_laptop[label], label)\n",
    "    \n",
    "timings_laptop.plot_results(\"Setonix HIPBlas (GPU)\", sort=True)"
   ]
  },
  {
   "cell_type": "markdown",
   "id": "1fb0dacf-758e-4989-914c-65b4b8a9e10a",
   "metadata": {},
   "source": [
    "Here are the performance numbers for my workstation. Note these numbers are relative to the double precision CPU implementation on Setonix.\n",
    "\n",
    "* GPU 0 - AMD Radeon VII - 13 TFLOP/s"
   ]
  },
  {
   "cell_type": "code",
   "execution_count": null,
   "id": "33280ad2-8c9a-4331-98be-52214de06bc8",
   "metadata": {},
   "outputs": [],
   "source": [
    "# Benchmark for the Workstation\n",
    "benchmark_work=py_helper.load_benchmark(os.path.join(os.getcwd(), \"benchmarks\", \"workstation.json\"))\n",
    "timings_work=py_helper.TimingResults()\n",
    "timings_work.add_result(benchmark['HIPBlas (GPU)[0]'], \"Setonix HIPBlas (GPU)\")\n",
    "\n",
    "for label in benchmark_work:\n",
    "    timings_work.add_result(benchmark_work[label], label)\n",
    "timings_work.plot_results(\"Setonix HIPBlas\", sort=True)"
   ]
  },
  {
   "cell_type": "markdown",
   "id": "12f5ef4d-6fa1-4a1b-8dd2-ea24f0e255fb",
   "metadata": {},
   "source": [
    "We can distill the learnings from this exploration into a collection of principles that will help you get the best out of your OpenCL kernels.\n",
    "\n",
    "* A **cache line** is the fundmental unit of memory transactions in a processor. Making best use of cache line contents is the key to good performance in HPC applications.\n",
    "* GPU's have much greater **memory bandwidth** than GPU's. but also much greater **latency**.\n",
    "* GPU's schedule work in lock-step over teams of math units and mitigate latency using deep pipelines with multiple teams active **at the same time**.\n",
    "* For GPU's the optimum block size is a **multiple** of the team size.\n",
    "* **Occupancy** is the ratio of active threads on a compute unit vs the potential number of active threads. \n",
    "    * To maximise occupancy:\n",
    "        * Keep the number of registers used low. If your kernels uses too many registers per block, then consider breaking up problem to be solved over a number of smaller kernel passes instead of one pass by a large kernel.\n",
    "        * Keep shared memory size low.\n",
    "        * Schedule enough blocks to keep the pipeline full.\n",
    "        * Large blocks work well. Use the team size to make large blocks with a multiple of thread teams, but still under the block's thread limit.\n",
    "* Matrix and tensor core computations are **vendor specific** instructions, however you can use macros to maintain portability.\n",
    "* Make sure your code paths have minimal **divergence** for threads in a team.\n",
    "* **Arithmetic intensity** for an algorithm is the ratio of FLOPS computed per Byte of memory transferred. A low FLOPS/Byte ratio means that a computation is limited by memory bandwidth, and that is where optimisation efforts should be focused.\n",
    "* The lower your **precision** the faster a computation can occur. Consider using 16-32 bit floating point numbers if you can, particularly on gaming hardware.\n",
    "* Performance is a nonlinear function of block size. Consider tuning the local size to find the best one for your problem.\n",
    "    * Usually large blocks (within limits) perform well\n",
    "* Use **constant memory** to store coefficients and other small memory allocations.\n",
    "* Use shared memory if you can:\n",
    "    * Fill it in parallel using all the threads.\n",
    "    * Reuse it many times within a kernel.\n",
    "    * Keep it small enough to avoid occupancy issues.\n",
    "* Re-arranging memory (such as transposing) prior to kernel execution might be helpful for leveraging coalesced memory access. \n",
    "* Using vectors is **essential** for gettting the best performance on compute devices that support vector instructions.\n",
    "* If you can leverage someone else's solver it is a shortcut to gettting the best performance.\n",
    "* Dividing your problem into subdomains and using multiple compute devices to solve each domain **might** provide a performance benefit if other overheads are small."
   ]
  },
  {
   "cell_type": "markdown",
   "id": "dc92d2e1-70d0-455e-ad8e-ca8461fdfc0d",
   "metadata": {},
   "source": [
    "<address>\n",
    "Written by Dr. Toby Potter of <a href=\"https://www.pelagos-consulting.com\">Pelagos Consulting and Education</a> for the <a href=\"https://pawsey.org.au\">Pawsey Supercomputing Research Centre</a>. All trademarks mentioned are the property of their respective owners.\n",
    "</address>"
   ]
  }
 ],
 "metadata": {
  "kernelspec": {
   "display_name": "Python 3 (ipykernel)",
   "language": "python",
   "name": "python3"
  },
  "language_info": {
   "codemirror_mode": {
    "name": "ipython",
    "version": 3
   },
   "file_extension": ".py",
   "mimetype": "text/x-python",
   "name": "python",
   "nbconvert_exporter": "python",
   "pygments_lexer": "ipython3",
   "version": "3.10.12"
  }
 },
 "nbformat": 4,
 "nbformat_minor": 5
}
