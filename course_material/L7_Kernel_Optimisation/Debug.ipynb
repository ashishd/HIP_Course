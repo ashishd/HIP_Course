{
 "cells": [
  {
   "cell_type": "markdown",
   "id": "e2cd343e-0a21-404a-9a16-3d347aa0bc4e",
   "metadata": {},
   "source": [
    "# Debugging bench"
   ]
  },
  {
   "cell_type": "code",
   "execution_count": 1,
   "id": "f41ae102-40d8-4c2e-a0ff-e8652187e6ff",
   "metadata": {
    "tags": []
   },
   "outputs": [
    {
     "name": "stdout",
     "output_type": "stream",
     "text": [
      "make: Nothing to be done for 'all'.\n"
     ]
    }
   ],
   "source": [
    "!make"
   ]
  },
  {
   "cell_type": "code",
   "execution_count": 2,
   "id": "01512139-65c9-408d-9bd2-8b88c390e90a",
   "metadata": {
    "tags": []
   },
   "outputs": [],
   "source": [
    "import os\n",
    "import sys\n",
    "import numpy as np\n",
    "sys.path.insert(0, os.path.abspath(\"../include\"))\n",
    "import subprocess\n",
    "import json\n",
    "import py_helper\n",
    "\n",
    "%matplotlib widget\n",
    "\n",
    "defines=py_helper.load_defines(\"mat_size.hpp\")\n",
    "\n",
    "NCOLS_A = defines[\"NCOLS_A\"]\n",
    "NROWS_C = defines[\"NROWS_C\"]\n",
    "NCOLS_C = defines[\"NCOLS_C\"]\n",
    "\n",
    "# A is of size (NROWS_C, NCOLS_A)\n",
    "# B is of size (NCOLS_A, NCOLS_C)    \n",
    "# C is of size (NROWS_C, NCOLS_C)\n",
    "\n",
    "mat_mul_double=py_helper.MatMul(NCOLS_A, NROWS_C, NCOLS_C, np.float64)\n",
    "mat_mul_float=py_helper.MatMul(NCOLS_A, NROWS_C, NCOLS_C, np.float32)\n",
    "\n",
    "# Make up objects for timing results and local optimisation\n",
    "timings=py_helper.TimingResults()"
   ]
  },
  {
   "cell_type": "code",
   "execution_count": 3,
   "id": "26152c7f-2eba-42ef-8ef8-2aa9a4fbfd82",
   "metadata": {
    "tags": []
   },
   "outputs": [
    {
     "name": "stderr",
     "output_type": "stream",
     "text": [
      "Error, HIP call failed at ../include/hip_helper.hpp:139, error string is: no ROCm-capable device is detected\n"
     ]
    },
    {
     "ename": "FileNotFoundError",
     "evalue": "[Errno 2] No such file or directory: 'array_A.dat'",
     "output_type": "error",
     "traceback": [
      "\u001b[0;31m---------------------------------------------------------------------------\u001b[0m",
      "\u001b[0;31mFileNotFoundError\u001b[0m                         Traceback (most recent call last)",
      "Cell \u001b[0;32mIn[3], line 4\u001b[0m\n\u001b[1;32m      1\u001b[0m \u001b[38;5;66;03m#local_opt=py_helper.LocalOpt(cmds=[\"./mat_mult_local_A.exe\", \"-cpu\", \"0\"])\u001b[39;00m\n\u001b[1;32m      2\u001b[0m subprocess\u001b[38;5;241m.\u001b[39mrun([\u001b[38;5;124m\"\u001b[39m\u001b[38;5;124m./mat_mult_tile_shared_AB_vector.exe\u001b[39m\u001b[38;5;124m\"\u001b[39m])\n\u001b[0;32m----> 4\u001b[0m \u001b[43mmat_mul_float\u001b[49m\u001b[38;5;241;43m.\u001b[39;49m\u001b[43mload_data\u001b[49m\u001b[43m(\u001b[49m\u001b[43m)\u001b[49m\n\u001b[1;32m      5\u001b[0m mat_mul_float\u001b[38;5;241m.\u001b[39mcheck_data()\n",
      "File \u001b[0;32m~/HIP_Course/course_material/include/py_helper.py:49\u001b[0m, in \u001b[0;36mMatMul.load_data\u001b[0;34m(self)\u001b[0m\n\u001b[1;32m     47\u001b[0m \u001b[38;5;28;01mdef\u001b[39;00m \u001b[38;5;21mload_data\u001b[39m(\u001b[38;5;28mself\u001b[39m):\n\u001b[1;32m     48\u001b[0m \u001b[38;5;250m    \u001b[39m\u001b[38;5;124;03m\"\"\"Load binary arrays from file\"\"\"\u001b[39;00m\n\u001b[0;32m---> 49\u001b[0m     \u001b[38;5;28mself\u001b[39m\u001b[38;5;241m.\u001b[39mA \u001b[38;5;241m=\u001b[39m \u001b[43mnp\u001b[49m\u001b[38;5;241;43m.\u001b[39;49m\u001b[43mfromfile\u001b[49m\u001b[43m(\u001b[49m\u001b[38;5;124;43m\"\u001b[39;49m\u001b[38;5;124;43marray_A.dat\u001b[39;49m\u001b[38;5;124;43m\"\u001b[39;49m\u001b[43m,\u001b[49m\u001b[43m \u001b[49m\u001b[43mdtype\u001b[49m\u001b[38;5;241;43m=\u001b[39;49m\u001b[38;5;28;43mself\u001b[39;49m\u001b[38;5;241;43m.\u001b[39;49m\u001b[43mdtype\u001b[49m\u001b[43m)\u001b[49m\u001b[38;5;241m.\u001b[39mreshape((\u001b[38;5;28mself\u001b[39m\u001b[38;5;241m.\u001b[39mNROWS_C, \u001b[38;5;28mself\u001b[39m\u001b[38;5;241m.\u001b[39mNCOLS_A))\n\u001b[1;32m     50\u001b[0m     \u001b[38;5;28mself\u001b[39m\u001b[38;5;241m.\u001b[39mB \u001b[38;5;241m=\u001b[39m np\u001b[38;5;241m.\u001b[39mfromfile(\u001b[38;5;124m\"\u001b[39m\u001b[38;5;124marray_B.dat\u001b[39m\u001b[38;5;124m\"\u001b[39m, dtype\u001b[38;5;241m=\u001b[39m\u001b[38;5;28mself\u001b[39m\u001b[38;5;241m.\u001b[39mdtype)\u001b[38;5;241m.\u001b[39mreshape((\u001b[38;5;28mself\u001b[39m\u001b[38;5;241m.\u001b[39mNCOLS_A, \u001b[38;5;28mself\u001b[39m\u001b[38;5;241m.\u001b[39mNCOLS_C))\n\u001b[1;32m     51\u001b[0m     \u001b[38;5;28mself\u001b[39m\u001b[38;5;241m.\u001b[39mrun_compute()\n",
      "\u001b[0;31mFileNotFoundError\u001b[0m: [Errno 2] No such file or directory: 'array_A.dat'"
     ]
    }
   ],
   "source": [
    "#local_opt=py_helper.LocalOpt(cmds=[\"./mat_mult_local_A.exe\", \"-cpu\", \"0\"])\n",
    "subprocess.run([\"./mat_mult_tile_shared_AB_vector.exe\"])\n",
    "\n",
    "mat_mul_float.load_data()\n",
    "mat_mul_float.check_data()"
   ]
  },
  {
   "cell_type": "code",
   "execution_count": null,
   "id": "e0ed5409-7d8b-4e13-8467-43ad48aedbed",
   "metadata": {},
   "outputs": [],
   "source": []
  }
 ],
 "metadata": {
  "kernelspec": {
   "display_name": "Python 3 (ipykernel)",
   "language": "python",
   "name": "python3"
  },
  "language_info": {
   "codemirror_mode": {
    "name": "ipython",
    "version": 3
   },
   "file_extension": ".py",
   "mimetype": "text/x-python",
   "name": "python",
   "nbconvert_exporter": "python",
   "pygments_lexer": "ipython3",
   "version": "3.9.7"
  }
 },
 "nbformat": 4,
 "nbformat_minor": 5
}
